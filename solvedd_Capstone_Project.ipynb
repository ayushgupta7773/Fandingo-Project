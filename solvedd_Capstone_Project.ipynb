{
  "cells": [
    {
      "cell_type": "markdown",
      "metadata": {
        "id": "lY0CwpxPEBNP"
      },
      "source": [
        "# Fandango Project\n",
        "## Overview\n",
        "\n",
        "If you are planning on going out to see a movie, how well can you trust online reviews and ratings? *Especially* if the same company showing the rating *also* makes money by selling movie tickets. Do they have a bias towards rating movies higher than they should be rated?\n"
      ]
    },
    {
      "cell_type": "markdown",
      "metadata": {
        "id": "6AKCiBgPEBNT"
      },
      "source": [
        "----\n",
        "\n",
        "**  : After reading the article, read these two tables giving an overview of the two .csv files we will be working with:**\n",
        "\n",
        "### The Data\n",
        "\n",
        "This is the data behind the story [Be Suspicious Of Online Movie Ratings, Especially Fandango’s](http://fivethirtyeight.com/features/fandango-movies-ratings/) openly available on 538's github: https://github.com/fivethirtyeight/data. There are two csv files, one with Fandango Stars and Displayed Ratings, and the other with aggregate data for movie ratings from other sites, like Metacritic,IMDB, and Rotten Tomatoes.\n",
        "\n",
        "#### all_sites_scores.csv"
      ]
    },
    {
      "cell_type": "markdown",
      "metadata": {
        "id": "NOlbPdkrEBNh"
      },
      "source": [
        "-----\n",
        "\n",
        "`all_sites_scores.csv` contains every film that has a Rotten Tomatoes rating, a RT User rating, a Metacritic score, a Metacritic User score, and IMDb score, and at least 30 fan reviews on Fandango. The data from Fandango was pulled on Aug. 24, 2015."
      ]
    },
    {
      "cell_type": "markdown",
      "metadata": {
        "id": "boYUwdz1EBNh"
      },
      "source": [
        "Column | Definition\n",
        "--- | -----------\n",
        "FILM | The film in question\n",
        "RottenTomatoes | The Rotten Tomatoes Tomatometer score  for the film\n",
        "RottenTomatoes_User | The Rotten Tomatoes user score for the film\n",
        "Metacritic | The Metacritic critic score for the film\n",
        "Metacritic_User | The Metacritic user score for the film\n",
        "IMDB | The IMDb user score for the film\n",
        "Metacritic_user_vote_count | The number of user votes the film had on Metacritic\n",
        "IMDB_user_vote_count | The number of user votes the film had on IMDb"
      ]
    },
    {
      "cell_type": "markdown",
      "metadata": {
        "id": "uUA7aHhdEBNi"
      },
      "source": [
        "----\n",
        "----\n",
        "\n",
        "#### fandango_scape.csv"
      ]
    },
    {
      "cell_type": "markdown",
      "metadata": {
        "id": "e9Ynzof2EBNj"
      },
      "source": [
        "`fandango_scrape.csv` contains every film 538 pulled from Fandango.\n",
        "\n",
        "Column | Definiton\n",
        "--- | ---------\n",
        "FILM | The movie\n",
        "STARS | Number of stars presented on Fandango.com\n",
        "RATING |  The Fandango ratingValue for the film, as pulled from the HTML of each page. This is the actual average score the movie obtained.\n",
        "VOTES | number of people who had reviewed the film at the time we pulled it."
      ]
    },
    {
      "cell_type": "markdown",
      "metadata": {
        "id": "gtienL-XEBNm"
      },
      "source": [
        "----\n",
        "\n",
        "**  : Import any libraries you think you will use:**"
      ]
    },
    {
      "cell_type": "code",
      "execution_count": null,
      "metadata": {
        "id": "Iwk-VUYlQIZj"
      },
      "outputs": [],
      "source": []
    },
    {
      "cell_type": "code",
      "execution_count": 16,
      "metadata": {
        "colab": {
          "base_uri": "https://localhost:8080/"
        },
        "id": "j1UfXZ_fEBNn",
        "outputId": "6d692dab-ee1c-46eb-bf4e-73bd226df26d"
      },
      "outputs": [
        {
          "name": "stderr",
          "output_type": "stream",
          "text": [
            "'gdown' is not recognized as an internal or external command,\n",
            "operable program or batch file.\n",
            "'gdown' is not recognized as an internal or external command,\n",
            "operable program or batch file.\n"
          ]
        }
      ],
      "source": [
        "!gdown 1FpUMtVN_HHfDIE8xKZDX5iyZHfkS3L7l\n",
        "!gdown 1NtaSS4DQIjkxrof3ObBtAXUIQ-eIuLmJ"
      ]
    },
    {
      "cell_type": "code",
      "execution_count": 17,
      "metadata": {
        "id": "W9FWEdjJEBNq"
      },
      "outputs": [],
      "source": [
        "import pandas as pd\n",
        "import numpy as np\n",
        "import matplotlib as m\n",
        "import seaborn as sns\n",
        "import matplotlib.pyplot as plt"
      ]
    },
    {
      "cell_type": "markdown",
      "metadata": {
        "id": "CxraTx11EBNr"
      },
      "source": [
        "## Exploring Fandango Displayed Scores versus True User Ratings\n",
        "\n",
        "Let's first explore the Fandango ratings to see if our analysis agrees with the article's conclusion.\n",
        "\n"
      ]
    },
    {
      "cell_type": "code",
      "execution_count": 18,
      "metadata": {
        "id": "P4Vbo-vPEBNz"
      },
      "outputs": [],
      "source": [
        "fandango = pd.read_csv(\"fandango_scrape.csv\")\n",
        "fd= fandango"
      ]
    },
    {
      "cell_type": "markdown",
      "metadata": {
        "id": "O1JLQzM9EBN0"
      },
      "source": [
        "**  : Explore the DataFrame Properties and Head.**"
      ]
    },
    {
      "cell_type": "code",
      "execution_count": 19,
      "metadata": {
        "colab": {
          "base_uri": "https://localhost:8080/",
          "height": 206
        },
        "id": "jdQbvtqQEBN0",
        "outputId": "86177d07-db38-4925-8a79-98050f8687ca"
      },
      "outputs": [
        {
          "data": {
            "text/html": [
              "<div>\n",
              "<style scoped>\n",
              "    .dataframe tbody tr th:only-of-type {\n",
              "        vertical-align: middle;\n",
              "    }\n",
              "\n",
              "    .dataframe tbody tr th {\n",
              "        vertical-align: top;\n",
              "    }\n",
              "\n",
              "    .dataframe thead th {\n",
              "        text-align: right;\n",
              "    }\n",
              "</style>\n",
              "<table border=\"1\" class=\"dataframe\">\n",
              "  <thead>\n",
              "    <tr style=\"text-align: right;\">\n",
              "      <th></th>\n",
              "      <th>FILM</th>\n",
              "      <th>STARS</th>\n",
              "      <th>RATING</th>\n",
              "      <th>VOTES</th>\n",
              "    </tr>\n",
              "  </thead>\n",
              "  <tbody>\n",
              "    <tr>\n",
              "      <th>0</th>\n",
              "      <td>Fifty Shades of Grey (2015)</td>\n",
              "      <td>4.0</td>\n",
              "      <td>3.9</td>\n",
              "      <td>34846</td>\n",
              "    </tr>\n",
              "    <tr>\n",
              "      <th>1</th>\n",
              "      <td>Jurassic World (2015)</td>\n",
              "      <td>4.5</td>\n",
              "      <td>4.5</td>\n",
              "      <td>34390</td>\n",
              "    </tr>\n",
              "    <tr>\n",
              "      <th>2</th>\n",
              "      <td>American Sniper (2015)</td>\n",
              "      <td>5.0</td>\n",
              "      <td>4.8</td>\n",
              "      <td>34085</td>\n",
              "    </tr>\n",
              "    <tr>\n",
              "      <th>3</th>\n",
              "      <td>Furious 7 (2015)</td>\n",
              "      <td>5.0</td>\n",
              "      <td>4.8</td>\n",
              "      <td>33538</td>\n",
              "    </tr>\n",
              "    <tr>\n",
              "      <th>4</th>\n",
              "      <td>Inside Out (2015)</td>\n",
              "      <td>4.5</td>\n",
              "      <td>4.5</td>\n",
              "      <td>15749</td>\n",
              "    </tr>\n",
              "  </tbody>\n",
              "</table>\n",
              "</div>"
            ],
            "text/plain": [
              "                          FILM  STARS  RATING  VOTES\n",
              "0  Fifty Shades of Grey (2015)    4.0     3.9  34846\n",
              "1        Jurassic World (2015)    4.5     4.5  34390\n",
              "2       American Sniper (2015)    5.0     4.8  34085\n",
              "3             Furious 7 (2015)    5.0     4.8  33538\n",
              "4            Inside Out (2015)    4.5     4.5  15749"
            ]
          },
          "execution_count": 19,
          "metadata": {},
          "output_type": "execute_result"
        }
      ],
      "source": [
        "fandango.head()"
      ]
    },
    {
      "cell_type": "code",
      "execution_count": 20,
      "metadata": {
        "colab": {
          "base_uri": "https://localhost:8080/"
        },
        "id": "cerIGC7dSATA",
        "outputId": "c755f317-d9af-4ea7-a7e4-d981b8f961eb"
      },
      "outputs": [
        {
          "name": "stdout",
          "output_type": "stream",
          "text": [
            "<class 'pandas.core.frame.DataFrame'>\n",
            "RangeIndex: 504 entries, 0 to 503\n",
            "Data columns (total 4 columns):\n",
            " #   Column  Non-Null Count  Dtype  \n",
            "---  ------  --------------  -----  \n",
            " 0   FILM    504 non-null    object \n",
            " 1   STARS   504 non-null    float64\n",
            " 2   RATING  504 non-null    float64\n",
            " 3   VOTES   504 non-null    int64  \n",
            "dtypes: float64(2), int64(1), object(1)\n",
            "memory usage: 15.9+ KB\n"
          ]
        }
      ],
      "source": [
        "fandango.info()"
      ]
    },
    {
      "cell_type": "code",
      "execution_count": 21,
      "metadata": {
        "colab": {
          "base_uri": "https://localhost:8080/",
          "height": 300
        },
        "id": "QBbodjd_SA7w",
        "outputId": "22ed3e2b-2ff3-4341-a97b-0d661e999aa3"
      },
      "outputs": [
        {
          "data": {
            "text/html": [
              "<div>\n",
              "<style scoped>\n",
              "    .dataframe tbody tr th:only-of-type {\n",
              "        vertical-align: middle;\n",
              "    }\n",
              "\n",
              "    .dataframe tbody tr th {\n",
              "        vertical-align: top;\n",
              "    }\n",
              "\n",
              "    .dataframe thead th {\n",
              "        text-align: right;\n",
              "    }\n",
              "</style>\n",
              "<table border=\"1\" class=\"dataframe\">\n",
              "  <thead>\n",
              "    <tr style=\"text-align: right;\">\n",
              "      <th></th>\n",
              "      <th>STARS</th>\n",
              "      <th>RATING</th>\n",
              "      <th>VOTES</th>\n",
              "    </tr>\n",
              "  </thead>\n",
              "  <tbody>\n",
              "    <tr>\n",
              "      <th>count</th>\n",
              "      <td>504.000000</td>\n",
              "      <td>504.000000</td>\n",
              "      <td>504.000000</td>\n",
              "    </tr>\n",
              "    <tr>\n",
              "      <th>mean</th>\n",
              "      <td>3.558532</td>\n",
              "      <td>3.375794</td>\n",
              "      <td>1147.863095</td>\n",
              "    </tr>\n",
              "    <tr>\n",
              "      <th>std</th>\n",
              "      <td>1.563133</td>\n",
              "      <td>1.491223</td>\n",
              "      <td>3830.583136</td>\n",
              "    </tr>\n",
              "    <tr>\n",
              "      <th>min</th>\n",
              "      <td>0.000000</td>\n",
              "      <td>0.000000</td>\n",
              "      <td>0.000000</td>\n",
              "    </tr>\n",
              "    <tr>\n",
              "      <th>25%</th>\n",
              "      <td>3.500000</td>\n",
              "      <td>3.100000</td>\n",
              "      <td>3.000000</td>\n",
              "    </tr>\n",
              "    <tr>\n",
              "      <th>50%</th>\n",
              "      <td>4.000000</td>\n",
              "      <td>3.800000</td>\n",
              "      <td>18.500000</td>\n",
              "    </tr>\n",
              "    <tr>\n",
              "      <th>75%</th>\n",
              "      <td>4.500000</td>\n",
              "      <td>4.300000</td>\n",
              "      <td>189.750000</td>\n",
              "    </tr>\n",
              "    <tr>\n",
              "      <th>max</th>\n",
              "      <td>5.000000</td>\n",
              "      <td>5.000000</td>\n",
              "      <td>34846.000000</td>\n",
              "    </tr>\n",
              "  </tbody>\n",
              "</table>\n",
              "</div>"
            ],
            "text/plain": [
              "            STARS      RATING         VOTES\n",
              "count  504.000000  504.000000    504.000000\n",
              "mean     3.558532    3.375794   1147.863095\n",
              "std      1.563133    1.491223   3830.583136\n",
              "min      0.000000    0.000000      0.000000\n",
              "25%      3.500000    3.100000      3.000000\n",
              "50%      4.000000    3.800000     18.500000\n",
              "75%      4.500000    4.300000    189.750000\n",
              "max      5.000000    5.000000  34846.000000"
            ]
          },
          "execution_count": 21,
          "metadata": {},
          "output_type": "execute_result"
        }
      ],
      "source": [
        "fandango.describe()"
      ]
    },
    {
      "cell_type": "markdown",
      "metadata": {
        "id": "G5uYBFemEBN2"
      },
      "source": [
        "**Let's explore the relationship between popularity of a film and its rating. Create a scatterplot showing the relationship between rating and votes. Feel free to edit visual styling to your preference.**"
      ]
    },
    {
      "cell_type": "code",
      "execution_count": 22,
      "metadata": {
        "id": "vh6EABT0jpYW"
      },
      "outputs": [],
      "source": [
        "# : sb.scatterplot(data=fd,y=\"VOTES\",x=\"RATING\")\n",
        "# increase the width of plot usinf figsize\n",
        "\n",
        "# sns.scatterplot(data=fd,y=\"VOTES\",x=\"RATING\").set(figsize=(10,6))\n"
      ]
    },
    {
      "cell_type": "code",
      "execution_count": 23,
      "metadata": {
        "colab": {
          "base_uri": "https://localhost:8080/",
          "height": 465
        },
        "id": "fazY2c1LEBN3",
        "outputId": "c0fcddb1-6e0d-4785-c2b2-134cfb60ae09"
      },
      "outputs": [
        {
          "data": {
            "image/png": "[encoded data removed]",
            "text/plain": [
              "<Figure size 1500x500 with 1 Axes>"
            ]
          },
          "metadata": {},
          "output_type": "display_data"
        }
      ],
      "source": [
        " \n",
        "\n",
        "# sb.scatterplot(data=fd,y=\"VOTES\",x=\"RATING\")\n",
        "# sb.scatterplot(data=fd,y=\"VOTES\",x=\"RATING\").set(figsize=(9,9))\n",
        "\n",
        "# plt.figure(figsize=(10,20))\n",
        "# sb.plot()\n",
        "plt.figure(figsize=(15, 5))\n",
        "sns.scatterplot(data=fd, y=\"VOTES\", x=\"RATING\")\n",
        "plt.show()"
      ]
    },
    {
      "cell_type": "code",
      "execution_count": null,
      "metadata": {
        "id": "hegb2BeoEBN3"
      },
      "outputs": [],
      "source": []
    },
    {
      "cell_type": "markdown",
      "metadata": {
        "id": "PWcbcmsMEBN3"
      },
      "source": [
        "**  : Calculate the correlation between the columns:**"
      ]
    },
    {
      "cell_type": "code",
      "execution_count": 24,
      "metadata": {
        "colab": {
          "base_uri": "https://localhost:8080/",
          "height": 423
        },
        "id": "zum_tIYnEBN4",
        "outputId": "c277fe9f-254b-4d74-9319-25885f35b5b9"
      },
      "outputs": [
        {
          "data": {
            "text/html": [
              "<div>\n",
              "<style scoped>\n",
              "    .dataframe tbody tr th:only-of-type {\n",
              "        vertical-align: middle;\n",
              "    }\n",
              "\n",
              "    .dataframe tbody tr th {\n",
              "        vertical-align: top;\n",
              "    }\n",
              "\n",
              "    .dataframe thead th {\n",
              "        text-align: right;\n",
              "    }\n",
              "</style>\n",
              "<table border=\"1\" class=\"dataframe\">\n",
              "  <thead>\n",
              "    <tr style=\"text-align: right;\">\n",
              "      <th></th>\n",
              "      <th>FILM</th>\n",
              "      <th>STARS</th>\n",
              "      <th>RATING</th>\n",
              "      <th>VOTES</th>\n",
              "    </tr>\n",
              "  </thead>\n",
              "  <tbody>\n",
              "    <tr>\n",
              "      <th>0</th>\n",
              "      <td>Fifty Shades of Grey (2015)</td>\n",
              "      <td>4.0</td>\n",
              "      <td>3.9</td>\n",
              "      <td>34846</td>\n",
              "    </tr>\n",
              "    <tr>\n",
              "      <th>1</th>\n",
              "      <td>Jurassic World (2015)</td>\n",
              "      <td>4.5</td>\n",
              "      <td>4.5</td>\n",
              "      <td>34390</td>\n",
              "    </tr>\n",
              "    <tr>\n",
              "      <th>2</th>\n",
              "      <td>American Sniper (2015)</td>\n",
              "      <td>5.0</td>\n",
              "      <td>4.8</td>\n",
              "      <td>34085</td>\n",
              "    </tr>\n",
              "    <tr>\n",
              "      <th>3</th>\n",
              "      <td>Furious 7 (2015)</td>\n",
              "      <td>5.0</td>\n",
              "      <td>4.8</td>\n",
              "      <td>33538</td>\n",
              "    </tr>\n",
              "    <tr>\n",
              "      <th>4</th>\n",
              "      <td>Inside Out (2015)</td>\n",
              "      <td>4.5</td>\n",
              "      <td>4.5</td>\n",
              "      <td>15749</td>\n",
              "    </tr>\n",
              "    <tr>\n",
              "      <th>...</th>\n",
              "      <td>...</td>\n",
              "      <td>...</td>\n",
              "      <td>...</td>\n",
              "      <td>...</td>\n",
              "    </tr>\n",
              "    <tr>\n",
              "      <th>499</th>\n",
              "      <td>Valiyavan (2015)</td>\n",
              "      <td>0.0</td>\n",
              "      <td>0.0</td>\n",
              "      <td>0</td>\n",
              "    </tr>\n",
              "    <tr>\n",
              "      <th>500</th>\n",
              "      <td>WWE SummerSlam 2015 (2015)</td>\n",
              "      <td>0.0</td>\n",
              "      <td>0.0</td>\n",
              "      <td>0</td>\n",
              "    </tr>\n",
              "    <tr>\n",
              "      <th>501</th>\n",
              "      <td>Yagavarayinum Naa Kaakka (2015)</td>\n",
              "      <td>0.0</td>\n",
              "      <td>0.0</td>\n",
              "      <td>0</td>\n",
              "    </tr>\n",
              "    <tr>\n",
              "      <th>502</th>\n",
              "      <td>Yesterday, Today and Tomorrow (1964)</td>\n",
              "      <td>0.0</td>\n",
              "      <td>0.0</td>\n",
              "      <td>0</td>\n",
              "    </tr>\n",
              "    <tr>\n",
              "      <th>503</th>\n",
              "      <td>Zarafa (2012)</td>\n",
              "      <td>0.0</td>\n",
              "      <td>0.0</td>\n",
              "      <td>0</td>\n",
              "    </tr>\n",
              "  </tbody>\n",
              "</table>\n",
              "<p>504 rows × 4 columns</p>\n",
              "</div>"
            ],
            "text/plain": [
              "                                     FILM  STARS  RATING  VOTES\n",
              "0             Fifty Shades of Grey (2015)    4.0     3.9  34846\n",
              "1                   Jurassic World (2015)    4.5     4.5  34390\n",
              "2                  American Sniper (2015)    5.0     4.8  34085\n",
              "3                        Furious 7 (2015)    5.0     4.8  33538\n",
              "4                       Inside Out (2015)    4.5     4.5  15749\n",
              "..                                    ...    ...     ...    ...\n",
              "499                      Valiyavan (2015)    0.0     0.0      0\n",
              "500            WWE SummerSlam 2015 (2015)    0.0     0.0      0\n",
              "501       Yagavarayinum Naa Kaakka (2015)    0.0     0.0      0\n",
              "502  Yesterday, Today and Tomorrow (1964)    0.0     0.0      0\n",
              "503                         Zarafa (2012)    0.0     0.0      0\n",
              "\n",
              "[504 rows x 4 columns]"
            ]
          },
          "execution_count": 24,
          "metadata": {},
          "output_type": "execute_result"
        }
      ],
      "source": [
        " \n",
        "fd"
      ]
    },
    {
      "cell_type": "code",
      "execution_count": 25,
      "metadata": {
        "colab": {
          "base_uri": "https://localhost:8080/",
          "height": 200
        },
        "id": "hib3j4P6mIai",
        "outputId": "d4d06e3b-e07f-4504-c907-73a00502452b"
      },
      "outputs": [],
      "source": [
        "# : Using dataframe fandango:  Calculate the correlation between the columns:\n",
        "\n",
        "# fandango.corr()\n"
      ]
    },
    {
      "cell_type": "markdown",
      "metadata": {
        "id": "o0vvIYEBEBN4"
      },
      "source": [
        "**  : Assuming that every row in the FILM title column has the same format:**\n",
        "\n",
        "    Film Title Name (Year)\n",
        "    \n",
        "**Create a new column that is able to strip the year from the title strings and set this new column as YEAR**"
      ]
    },
    {
      "cell_type": "code",
      "execution_count": 26,
      "metadata": {
        "colab": {
          "base_uri": "https://localhost:8080/",
          "height": 206
        },
        "id": "UuFks6XbEBN5",
        "outputId": "70a18332-5d52-49d1-dd67-ffd125c75b9e"
      },
      "outputs": [
        {
          "data": {
            "text/html": [
              "<div>\n",
              "<style scoped>\n",
              "    .dataframe tbody tr th:only-of-type {\n",
              "        vertical-align: middle;\n",
              "    }\n",
              "\n",
              "    .dataframe tbody tr th {\n",
              "        vertical-align: top;\n",
              "    }\n",
              "\n",
              "    .dataframe thead th {\n",
              "        text-align: right;\n",
              "    }\n",
              "</style>\n",
              "<table border=\"1\" class=\"dataframe\">\n",
              "  <thead>\n",
              "    <tr style=\"text-align: right;\">\n",
              "      <th></th>\n",
              "      <th>FILM</th>\n",
              "      <th>STARS</th>\n",
              "      <th>RATING</th>\n",
              "      <th>VOTES</th>\n",
              "      <th>year</th>\n",
              "    </tr>\n",
              "  </thead>\n",
              "  <tbody>\n",
              "    <tr>\n",
              "      <th>0</th>\n",
              "      <td>Fifty Shades of Grey (2015)</td>\n",
              "      <td>4.0</td>\n",
              "      <td>3.9</td>\n",
              "      <td>34846</td>\n",
              "      <td>2015</td>\n",
              "    </tr>\n",
              "    <tr>\n",
              "      <th>1</th>\n",
              "      <td>Jurassic World (2015)</td>\n",
              "      <td>4.5</td>\n",
              "      <td>4.5</td>\n",
              "      <td>34390</td>\n",
              "      <td>2015</td>\n",
              "    </tr>\n",
              "    <tr>\n",
              "      <th>2</th>\n",
              "      <td>American Sniper (2015)</td>\n",
              "      <td>5.0</td>\n",
              "      <td>4.8</td>\n",
              "      <td>34085</td>\n",
              "      <td>2015</td>\n",
              "    </tr>\n",
              "    <tr>\n",
              "      <th>3</th>\n",
              "      <td>Furious 7 (2015)</td>\n",
              "      <td>5.0</td>\n",
              "      <td>4.8</td>\n",
              "      <td>33538</td>\n",
              "      <td>2015</td>\n",
              "    </tr>\n",
              "    <tr>\n",
              "      <th>4</th>\n",
              "      <td>Inside Out (2015)</td>\n",
              "      <td>4.5</td>\n",
              "      <td>4.5</td>\n",
              "      <td>15749</td>\n",
              "      <td>2015</td>\n",
              "    </tr>\n",
              "  </tbody>\n",
              "</table>\n",
              "</div>"
            ],
            "text/plain": [
              "                          FILM  STARS  RATING  VOTES  year\n",
              "0  Fifty Shades of Grey (2015)    4.0     3.9  34846  2015\n",
              "1        Jurassic World (2015)    4.5     4.5  34390  2015\n",
              "2       American Sniper (2015)    5.0     4.8  34085  2015\n",
              "3             Furious 7 (2015)    5.0     4.8  33538  2015\n",
              "4            Inside Out (2015)    4.5     4.5  15749  2015"
            ]
          },
          "execution_count": 26,
          "metadata": {},
          "output_type": "execute_result"
        }
      ],
      "source": [
        " \n",
        "def y_catch(row):\n",
        "  a=row['FILM'].split()\n",
        "  return int(a[-1][1:-1])\n",
        "fd['year']= fd.apply(y_catch,axis=1)\n",
        "fd.head()\n"
      ]
    },
    {
      "cell_type": "code",
      "execution_count": null,
      "metadata": {
        "id": "C96zFEy-EBN5"
      },
      "outputs": [],
      "source": []
    },
    {
      "cell_type": "markdown",
      "metadata": {
        "id": "OGbnRm0CEBN6"
      },
      "source": [
        "**: How many movies are in the Fandango DataFrame per year?**"
      ]
    },
    {
      "cell_type": "code",
      "execution_count": 27,
      "metadata": {
        "colab": {
          "base_uri": "https://localhost:8080/"
        },
        "id": "SakEn-zDEBN6",
        "outputId": "5d2801d5-2bba-4818-a01e-b3d7bbf12c74"
      },
      "outputs": [
        {
          "data": {
            "text/plain": [
              "year\n",
              "2015    478\n",
              "2014     23\n",
              "2016      1\n",
              "1964      1\n",
              "2012      1\n",
              "Name: count, dtype: int64"
            ]
          },
          "execution_count": 27,
          "metadata": {},
          "output_type": "execute_result"
        }
      ],
      "source": [
        "#CODE HERE\n",
        "perYearMovie=fd[\"year\"].value_counts()\n",
        "perYearMovie"
      ]
    },
    {
      "cell_type": "code",
      "execution_count": null,
      "metadata": {
        "id": "iGCdMgSDEBN6"
      },
      "outputs": [],
      "source": []
    },
    {
      "cell_type": "markdown",
      "metadata": {
        "id": "Ln9vZTm3EBN7"
      },
      "source": [
        "**  : Visualize the count of movies per year with a plot:**"
      ]
    },
    {
      "cell_type": "code",
      "execution_count": 28,
      "metadata": {
        "id": "pzkKKIjasu4a"
      },
      "outputs": [],
      "source": [
        "\n",
        "# plt.figure(figsize=(5,2))\n",
        "# palette = ['red', 'green', 'blue', 'orange','yellow']\n",
        "# sns.barplot(data=perYearMovie,color=palette)\n",
        "# plt.show()\n"
      ]
    },
    {
      "cell_type": "code",
      "execution_count": 29,
      "metadata": {
        "colab": {
          "base_uri": "https://localhost:8080/",
          "height": 453
        },
        "id": "ydduhBm1EBN7",
        "outputId": "d4e141ef-8e82-4f54-d24d-362263c542ac"
      },
      "outputs": [
        {
          "name": "stdout",
          "output_type": "stream",
          "text": [
            "<class 'module'>\n"
          ]
        },
        {
          "data": {
            "image/png": "[encoded data removed]",
            "text/plain": [
              "<Figure size 640x480 with 1 Axes>"
            ]
          },
          "metadata": {},
          "output_type": "display_data"
        }
      ],
      "source": [
        "\n",
        "\n",
        "# import seaborn as sns\n",
        "# import matplotlib.pyplot as plt\n",
        "\n",
        "# # Assuming perYearMovie is your DataFrame containing data for the bar plot\n",
        "\n",
        "# sns.barplot(data=perYearMovie)\n",
        "# plt.xlabel(\"Count\")\n",
        "# plt.show()\n",
        "\n",
        "import seaborn as sns\n",
        "import matplotlib.pyplot as plt\n",
        "\n",
        "# Assuming perYearMovie is your DataFrame containing data for the bar plot\n",
        "\n",
        "# Check if plt is inadvertently assigned as a string\n",
        "print(type(plt))  # This should print <class 'module'>\n",
        "\n",
        "# If plt is a string, it means it's been overwritten somewhere in your code.\n",
        "# Change the variable name to something else, e.g., plt1, and then try again.\n",
        "\n",
        "# Assuming plt is not overwritten, the issue might be with the plt.xlabel line.\n",
        "# Try commenting out plt.xlabel and directly set the x-axis label using Seaborn's set_xlabel method.\n",
        "#sns.barplot(data=perYearMovie)\n",
        "#plt.xlabel(\"Count\")\n",
        "plt.ylabel(\"Count\")  # Just setting ylabel as an example, adjust as needed\n",
        "plt.show()\n"
      ]
    },
    {
      "cell_type": "code",
      "execution_count": 30,
      "metadata": {
        "colab": {
          "base_uri": "https://localhost:8080/",
          "height": 305
        },
        "id": "-0BPgB0T-N4a",
        "outputId": "c10961f6-9057-49b3-c038-5c9a8447d1a8"
      },
      "outputs": [
        {
          "name": "stderr",
          "output_type": "stream",
          "text": [
            "C:\\Users\\Ayush Gupta\\AppData\\Local\\Temp\\ipykernel_4596\\2619240895.py:9: FutureWarning: \n",
            "\n",
            "Passing `palette` without assigning `hue` is deprecated and will be removed in v0.14.0. Assign the `x` variable to `hue` and set `legend=False` for the same effect.\n",
            "\n",
            "  sns.barplot(data=perYearMovie, palette=palette)\n"
          ]
        },
        {
          "data": {
            "image/png": "[encoded data removed]",
            "text/plain": [
              "<Figure size 500x200 with 1 Axes>"
            ]
          },
          "metadata": {},
          "output_type": "display_data"
        }
      ],
      "source": [
        "\n",
        "\n",
        "# Assuming perYearMovie is your DataFrame containing data for the bar plot\n",
        "\n",
        "plt.figure(figsize=(5, 2))\n",
        "\n",
        "# Define a palette of color names\n",
        "palette = ['red', 'green', 'blue', 'orange', 'yellow']\n",
        "\n",
        "# Use the palette parameter to specify the colors for the bars\n",
        "sns.barplot(data=perYearMovie, palette=palette)\n",
        "plt.show()"
      ]
    },
    {
      "cell_type": "code",
      "execution_count": null,
      "metadata": {
        "id": "G4nwPZI4EBN8"
      },
      "outputs": [],
      "source": []
    },
    {
      "cell_type": "markdown",
      "metadata": {
        "id": "BuubVEUWEBN9"
      },
      "source": [
        "**  : What are the 10 movies with the highest number of votes?**"
      ]
    },
    {
      "cell_type": "code",
      "execution_count": 31,
      "metadata": {
        "colab": {
          "base_uri": "https://localhost:8080/",
          "height": 362
        },
        "id": "oVT9kgKEEBN9",
        "outputId": "8abc4230-182a-4579-855c-6a028105ed87"
      },
      "outputs": [
        {
          "data": {
            "text/html": [
              "<div>\n",
              "<style scoped>\n",
              "    .dataframe tbody tr th:only-of-type {\n",
              "        vertical-align: middle;\n",
              "    }\n",
              "\n",
              "    .dataframe tbody tr th {\n",
              "        vertical-align: top;\n",
              "    }\n",
              "\n",
              "    .dataframe thead th {\n",
              "        text-align: right;\n",
              "    }\n",
              "</style>\n",
              "<table border=\"1\" class=\"dataframe\">\n",
              "  <thead>\n",
              "    <tr style=\"text-align: right;\">\n",
              "      <th></th>\n",
              "      <th>FILM</th>\n",
              "      <th>STARS</th>\n",
              "      <th>RATING</th>\n",
              "      <th>VOTES</th>\n",
              "      <th>year</th>\n",
              "    </tr>\n",
              "  </thead>\n",
              "  <tbody>\n",
              "    <tr>\n",
              "      <th>0</th>\n",
              "      <td>Fifty Shades of Grey (2015)</td>\n",
              "      <td>4.0</td>\n",
              "      <td>3.9</td>\n",
              "      <td>34846</td>\n",
              "      <td>2015</td>\n",
              "    </tr>\n",
              "    <tr>\n",
              "      <th>1</th>\n",
              "      <td>Jurassic World (2015)</td>\n",
              "      <td>4.5</td>\n",
              "      <td>4.5</td>\n",
              "      <td>34390</td>\n",
              "      <td>2015</td>\n",
              "    </tr>\n",
              "    <tr>\n",
              "      <th>2</th>\n",
              "      <td>American Sniper (2015)</td>\n",
              "      <td>5.0</td>\n",
              "      <td>4.8</td>\n",
              "      <td>34085</td>\n",
              "      <td>2015</td>\n",
              "    </tr>\n",
              "    <tr>\n",
              "      <th>3</th>\n",
              "      <td>Furious 7 (2015)</td>\n",
              "      <td>5.0</td>\n",
              "      <td>4.8</td>\n",
              "      <td>33538</td>\n",
              "      <td>2015</td>\n",
              "    </tr>\n",
              "    <tr>\n",
              "      <th>4</th>\n",
              "      <td>Inside Out (2015)</td>\n",
              "      <td>4.5</td>\n",
              "      <td>4.5</td>\n",
              "      <td>15749</td>\n",
              "      <td>2015</td>\n",
              "    </tr>\n",
              "    <tr>\n",
              "      <th>5</th>\n",
              "      <td>The Hobbit: The Battle of the Five Armies (2014)</td>\n",
              "      <td>4.5</td>\n",
              "      <td>4.3</td>\n",
              "      <td>15337</td>\n",
              "      <td>2014</td>\n",
              "    </tr>\n",
              "    <tr>\n",
              "      <th>6</th>\n",
              "      <td>Kingsman: The Secret Service (2015)</td>\n",
              "      <td>4.5</td>\n",
              "      <td>4.2</td>\n",
              "      <td>15205</td>\n",
              "      <td>2015</td>\n",
              "    </tr>\n",
              "    <tr>\n",
              "      <th>7</th>\n",
              "      <td>Minions (2015)</td>\n",
              "      <td>4.0</td>\n",
              "      <td>4.0</td>\n",
              "      <td>14998</td>\n",
              "      <td>2015</td>\n",
              "    </tr>\n",
              "    <tr>\n",
              "      <th>8</th>\n",
              "      <td>Avengers: Age of Ultron (2015)</td>\n",
              "      <td>5.0</td>\n",
              "      <td>4.5</td>\n",
              "      <td>14846</td>\n",
              "      <td>2015</td>\n",
              "    </tr>\n",
              "    <tr>\n",
              "      <th>9</th>\n",
              "      <td>Into the Woods (2014)</td>\n",
              "      <td>3.5</td>\n",
              "      <td>3.4</td>\n",
              "      <td>13055</td>\n",
              "      <td>2014</td>\n",
              "    </tr>\n",
              "  </tbody>\n",
              "</table>\n",
              "</div>"
            ],
            "text/plain": [
              "                                               FILM  STARS  RATING  VOTES  \\\n",
              "0                       Fifty Shades of Grey (2015)    4.0     3.9  34846   \n",
              "1                             Jurassic World (2015)    4.5     4.5  34390   \n",
              "2                            American Sniper (2015)    5.0     4.8  34085   \n",
              "3                                  Furious 7 (2015)    5.0     4.8  33538   \n",
              "4                                 Inside Out (2015)    4.5     4.5  15749   \n",
              "5  The Hobbit: The Battle of the Five Armies (2014)    4.5     4.3  15337   \n",
              "6               Kingsman: The Secret Service (2015)    4.5     4.2  15205   \n",
              "7                                    Minions (2015)    4.0     4.0  14998   \n",
              "8                    Avengers: Age of Ultron (2015)    5.0     4.5  14846   \n",
              "9                             Into the Woods (2014)    3.5     3.4  13055   \n",
              "\n",
              "   year  \n",
              "0  2015  \n",
              "1  2015  \n",
              "2  2015  \n",
              "3  2015  \n",
              "4  2015  \n",
              "5  2014  \n",
              "6  2015  \n",
              "7  2015  \n",
              "8  2015  \n",
              "9  2014  "
            ]
          },
          "execution_count": 31,
          "metadata": {},
          "output_type": "execute_result"
        }
      ],
      "source": [
        "#CODE HERE\n",
        "fd.sort_values(by=\"VOTES\",ascending=False).head(10)"
      ]
    },
    {
      "cell_type": "markdown",
      "metadata": {
        "id": "MdaJeG3ZEBN_"
      },
      "source": [
        "**  : How many movies have zero votes?**"
      ]
    },
    {
      "cell_type": "code",
      "execution_count": 32,
      "metadata": {
        "id": "hhdsF4InVXpF"
      },
      "outputs": [],
      "source": [
        "# fd=fdcopy.copy()\n",
        "# fdcopy\n"
      ]
    },
    {
      "cell_type": "code",
      "execution_count": 33,
      "metadata": {
        "colab": {
          "base_uri": "https://localhost:8080/"
        },
        "id": "CqxkORJiEBN_",
        "outputId": "8a503762-0a29-4a9e-b840-b1189008967e"
      },
      "outputs": [
        {
          "data": {
            "text/plain": [
              "Index([435, 436, 437, 438, 439, 440, 441, 442, 443, 444, 445, 446, 447, 448,\n",
              "       449, 450, 451, 452, 453, 454, 455, 456, 457, 458, 459, 460, 461, 462,\n",
              "       463, 464, 465, 466, 467, 468, 469, 470, 471, 472, 473, 474, 475, 476,\n",
              "       477, 478, 479, 480, 481, 482, 483, 484, 485, 486, 487, 488, 489, 490,\n",
              "       491, 492, 493, 494, 495, 496, 497, 498, 499, 500, 501, 502, 503],\n",
              "      dtype='int64')"
            ]
          },
          "execution_count": 33,
          "metadata": {},
          "output_type": "execute_result"
        }
      ],
      "source": [
        "#CODE HERE\n",
        "a=(fd.loc[fd[\"VOTES\"]==0])\n",
        "a\n",
        "a.index\n",
        "# fdcopy=fd.copy()\n",
        "# a=(fd[\"VOTES\"]==0)\n"
      ]
    },
    {
      "cell_type": "code",
      "execution_count": null,
      "metadata": {
        "id": "fcAeKOFSEBN_"
      },
      "outputs": [],
      "source": []
    },
    {
      "cell_type": "markdown",
      "metadata": {
        "id": "IhUgEYGhEBOA"
      },
      "source": [
        "**  : Create DataFrame of only reviewed films by removing any films that have zero votes.**"
      ]
    },
    {
      "cell_type": "code",
      "execution_count": 34,
      "metadata": {
        "colab": {
          "base_uri": "https://localhost:8080/",
          "height": 423
        },
        "id": "j94n01TTEBOA",
        "outputId": "47bda47b-e029-40f0-bf83-b6d26746a532"
      },
      "outputs": [
        {
          "data": {
            "text/html": [
              "<div>\n",
              "<style scoped>\n",
              "    .dataframe tbody tr th:only-of-type {\n",
              "        vertical-align: middle;\n",
              "    }\n",
              "\n",
              "    .dataframe tbody tr th {\n",
              "        vertical-align: top;\n",
              "    }\n",
              "\n",
              "    .dataframe thead th {\n",
              "        text-align: right;\n",
              "    }\n",
              "</style>\n",
              "<table border=\"1\" class=\"dataframe\">\n",
              "  <thead>\n",
              "    <tr style=\"text-align: right;\">\n",
              "      <th></th>\n",
              "      <th>FILM</th>\n",
              "      <th>STARS</th>\n",
              "      <th>RATING</th>\n",
              "      <th>VOTES</th>\n",
              "      <th>year</th>\n",
              "    </tr>\n",
              "  </thead>\n",
              "  <tbody>\n",
              "    <tr>\n",
              "      <th>0</th>\n",
              "      <td>Fifty Shades of Grey (2015)</td>\n",
              "      <td>4.0</td>\n",
              "      <td>3.9</td>\n",
              "      <td>34846</td>\n",
              "      <td>2015</td>\n",
              "    </tr>\n",
              "    <tr>\n",
              "      <th>1</th>\n",
              "      <td>Jurassic World (2015)</td>\n",
              "      <td>4.5</td>\n",
              "      <td>4.5</td>\n",
              "      <td>34390</td>\n",
              "      <td>2015</td>\n",
              "    </tr>\n",
              "    <tr>\n",
              "      <th>2</th>\n",
              "      <td>American Sniper (2015)</td>\n",
              "      <td>5.0</td>\n",
              "      <td>4.8</td>\n",
              "      <td>34085</td>\n",
              "      <td>2015</td>\n",
              "    </tr>\n",
              "    <tr>\n",
              "      <th>3</th>\n",
              "      <td>Furious 7 (2015)</td>\n",
              "      <td>5.0</td>\n",
              "      <td>4.8</td>\n",
              "      <td>33538</td>\n",
              "      <td>2015</td>\n",
              "    </tr>\n",
              "    <tr>\n",
              "      <th>4</th>\n",
              "      <td>Inside Out (2015)</td>\n",
              "      <td>4.5</td>\n",
              "      <td>4.5</td>\n",
              "      <td>15749</td>\n",
              "      <td>2015</td>\n",
              "    </tr>\n",
              "    <tr>\n",
              "      <th>...</th>\n",
              "      <td>...</td>\n",
              "      <td>...</td>\n",
              "      <td>...</td>\n",
              "      <td>...</td>\n",
              "      <td>...</td>\n",
              "    </tr>\n",
              "    <tr>\n",
              "      <th>430</th>\n",
              "      <td>That Sugar Film (2015)</td>\n",
              "      <td>5.0</td>\n",
              "      <td>5.0</td>\n",
              "      <td>1</td>\n",
              "      <td>2015</td>\n",
              "    </tr>\n",
              "    <tr>\n",
              "      <th>431</th>\n",
              "      <td>The Intern (2015)</td>\n",
              "      <td>5.0</td>\n",
              "      <td>5.0</td>\n",
              "      <td>1</td>\n",
              "      <td>2015</td>\n",
              "    </tr>\n",
              "    <tr>\n",
              "      <th>432</th>\n",
              "      <td>The Park Bench (2015)</td>\n",
              "      <td>5.0</td>\n",
              "      <td>5.0</td>\n",
              "      <td>1</td>\n",
              "      <td>2015</td>\n",
              "    </tr>\n",
              "    <tr>\n",
              "      <th>433</th>\n",
              "      <td>The Wanted 18 (2015)</td>\n",
              "      <td>5.0</td>\n",
              "      <td>5.0</td>\n",
              "      <td>1</td>\n",
              "      <td>2015</td>\n",
              "    </tr>\n",
              "    <tr>\n",
              "      <th>434</th>\n",
              "      <td>Z For Zachariah (2015)</td>\n",
              "      <td>5.0</td>\n",
              "      <td>5.0</td>\n",
              "      <td>1</td>\n",
              "      <td>2015</td>\n",
              "    </tr>\n",
              "  </tbody>\n",
              "</table>\n",
              "<p>435 rows × 5 columns</p>\n",
              "</div>"
            ],
            "text/plain": [
              "                            FILM  STARS  RATING  VOTES  year\n",
              "0    Fifty Shades of Grey (2015)    4.0     3.9  34846  2015\n",
              "1          Jurassic World (2015)    4.5     4.5  34390  2015\n",
              "2         American Sniper (2015)    5.0     4.8  34085  2015\n",
              "3               Furious 7 (2015)    5.0     4.8  33538  2015\n",
              "4              Inside Out (2015)    4.5     4.5  15749  2015\n",
              "..                           ...    ...     ...    ...   ...\n",
              "430       That Sugar Film (2015)    5.0     5.0      1  2015\n",
              "431            The Intern (2015)    5.0     5.0      1  2015\n",
              "432        The Park Bench (2015)    5.0     5.0      1  2015\n",
              "433         The Wanted 18 (2015)    5.0     5.0      1  2015\n",
              "434       Z For Zachariah (2015)    5.0     5.0      1  2015\n",
              "\n",
              "[435 rows x 5 columns]"
            ]
          },
          "execution_count": 34,
          "metadata": {},
          "output_type": "execute_result"
        }
      ],
      "source": [
        "#CODE HERE\n",
        "fd.drop(fd.loc[fd[\"VOTES\"]==0].index,inplace=True)\n",
        "fd\n"
      ]
    },
    {
      "cell_type": "code",
      "execution_count": 35,
      "metadata": {
        "colab": {
          "base_uri": "https://localhost:8080/",
          "height": 423
        },
        "id": "Jm4_qt6tEBOY",
        "outputId": "23ebd3d1-fc6b-4f18-bdfa-2a09ff38e7a6"
      },
      "outputs": [
        {
          "data": {
            "text/html": [
              "<div>\n",
              "<style scoped>\n",
              "    .dataframe tbody tr th:only-of-type {\n",
              "        vertical-align: middle;\n",
              "    }\n",
              "\n",
              "    .dataframe tbody tr th {\n",
              "        vertical-align: top;\n",
              "    }\n",
              "\n",
              "    .dataframe thead th {\n",
              "        text-align: right;\n",
              "    }\n",
              "</style>\n",
              "<table border=\"1\" class=\"dataframe\">\n",
              "  <thead>\n",
              "    <tr style=\"text-align: right;\">\n",
              "      <th></th>\n",
              "      <th>FILM</th>\n",
              "      <th>STARS</th>\n",
              "      <th>RATING</th>\n",
              "      <th>VOTES</th>\n",
              "      <th>year</th>\n",
              "    </tr>\n",
              "  </thead>\n",
              "  <tbody>\n",
              "    <tr>\n",
              "      <th>0</th>\n",
              "      <td>Fifty Shades of Grey (2015)</td>\n",
              "      <td>4.0</td>\n",
              "      <td>3.9</td>\n",
              "      <td>34846</td>\n",
              "      <td>2015</td>\n",
              "    </tr>\n",
              "    <tr>\n",
              "      <th>1</th>\n",
              "      <td>Jurassic World (2015)</td>\n",
              "      <td>4.5</td>\n",
              "      <td>4.5</td>\n",
              "      <td>34390</td>\n",
              "      <td>2015</td>\n",
              "    </tr>\n",
              "    <tr>\n",
              "      <th>2</th>\n",
              "      <td>American Sniper (2015)</td>\n",
              "      <td>5.0</td>\n",
              "      <td>4.8</td>\n",
              "      <td>34085</td>\n",
              "      <td>2015</td>\n",
              "    </tr>\n",
              "    <tr>\n",
              "      <th>3</th>\n",
              "      <td>Furious 7 (2015)</td>\n",
              "      <td>5.0</td>\n",
              "      <td>4.8</td>\n",
              "      <td>33538</td>\n",
              "      <td>2015</td>\n",
              "    </tr>\n",
              "    <tr>\n",
              "      <th>4</th>\n",
              "      <td>Inside Out (2015)</td>\n",
              "      <td>4.5</td>\n",
              "      <td>4.5</td>\n",
              "      <td>15749</td>\n",
              "      <td>2015</td>\n",
              "    </tr>\n",
              "    <tr>\n",
              "      <th>...</th>\n",
              "      <td>...</td>\n",
              "      <td>...</td>\n",
              "      <td>...</td>\n",
              "      <td>...</td>\n",
              "      <td>...</td>\n",
              "    </tr>\n",
              "    <tr>\n",
              "      <th>430</th>\n",
              "      <td>That Sugar Film (2015)</td>\n",
              "      <td>5.0</td>\n",
              "      <td>5.0</td>\n",
              "      <td>1</td>\n",
              "      <td>2015</td>\n",
              "    </tr>\n",
              "    <tr>\n",
              "      <th>431</th>\n",
              "      <td>The Intern (2015)</td>\n",
              "      <td>5.0</td>\n",
              "      <td>5.0</td>\n",
              "      <td>1</td>\n",
              "      <td>2015</td>\n",
              "    </tr>\n",
              "    <tr>\n",
              "      <th>432</th>\n",
              "      <td>The Park Bench (2015)</td>\n",
              "      <td>5.0</td>\n",
              "      <td>5.0</td>\n",
              "      <td>1</td>\n",
              "      <td>2015</td>\n",
              "    </tr>\n",
              "    <tr>\n",
              "      <th>433</th>\n",
              "      <td>The Wanted 18 (2015)</td>\n",
              "      <td>5.0</td>\n",
              "      <td>5.0</td>\n",
              "      <td>1</td>\n",
              "      <td>2015</td>\n",
              "    </tr>\n",
              "    <tr>\n",
              "      <th>434</th>\n",
              "      <td>Z For Zachariah (2015)</td>\n",
              "      <td>5.0</td>\n",
              "      <td>5.0</td>\n",
              "      <td>1</td>\n",
              "      <td>2015</td>\n",
              "    </tr>\n",
              "  </tbody>\n",
              "</table>\n",
              "<p>435 rows × 5 columns</p>\n",
              "</div>"
            ],
            "text/plain": [
              "                            FILM  STARS  RATING  VOTES  year\n",
              "0    Fifty Shades of Grey (2015)    4.0     3.9  34846  2015\n",
              "1          Jurassic World (2015)    4.5     4.5  34390  2015\n",
              "2         American Sniper (2015)    5.0     4.8  34085  2015\n",
              "3               Furious 7 (2015)    5.0     4.8  33538  2015\n",
              "4              Inside Out (2015)    4.5     4.5  15749  2015\n",
              "..                           ...    ...     ...    ...   ...\n",
              "430       That Sugar Film (2015)    5.0     5.0      1  2015\n",
              "431            The Intern (2015)    5.0     5.0      1  2015\n",
              "432        The Park Bench (2015)    5.0     5.0      1  2015\n",
              "433         The Wanted 18 (2015)    5.0     5.0      1  2015\n",
              "434       Z For Zachariah (2015)    5.0     5.0      1  2015\n",
              "\n",
              "[435 rows x 5 columns]"
            ]
          },
          "execution_count": 35,
          "metadata": {},
          "output_type": "execute_result"
        }
      ],
      "source": [
        "fd"
      ]
    },
    {
      "cell_type": "markdown",
      "metadata": {
        "id": "Hf4oG06yEBOY"
      },
      "source": [
        "----\n",
        "\n",
        "**As noted in the article, due to HTML and star rating displays, the true user rating may be slightly different than the rating shown to a user. Let's visualize this difference in distributions.**\n",
        "\n",
        "**  : Create a KDE plot (or multiple kdeplots) that displays the distribution of ratings that are displayed (STARS) versus what the true rating was from votes (RATING). Clip the KDEs to 0-5.**"
      ]
    },
    {
      "cell_type": "code",
      "execution_count": 36,
      "metadata": {
        "colab": {
          "base_uri": "https://localhost:8080/",
          "height": 540
        },
        "id": "sFqlw78nEBOZ",
        "outputId": "4ac87b58-f17d-4286-c612-794cce5081b4"
      },
      "outputs": [
        {
          "data": {
            "text/plain": [
              "<matplotlib.legend.Legend at 0x20f11855210>"
            ]
          },
          "execution_count": 36,
          "metadata": {},
          "output_type": "execute_result"
        },
        {
          "data": {
            "image/png": "[encoded data removed]",
            "text/plain": [
              "<Figure size 1200x600 with 1 Axes>"
            ]
          },
          "metadata": {},
          "output_type": "display_data"
        }
      ],
      "source": [
        "plt.figure(figsize=(12,6))\n",
        "sns.kdeplot(fd[[\"RATING\",\"STARS\"]],clip=(0,5),fill=True)\n",
        "plt.legend(['Stars displayed',\"True ratings\"], fontsize='large',loc=\"center right\")"
      ]
    },
    {
      "cell_type": "code",
      "execution_count": 37,
      "metadata": {
        "colab": {
          "base_uri": "https://localhost:8080/",
          "height": 542
        },
        "id": "p60sfk69aTr5",
        "outputId": "e9040d18-cdda-442a-8e08-34e85ed89137"
      },
      "outputs": [
        {
          "data": {
            "image/png": "[encoded data removed]",
            "text/plain": [
              "<Figure size 1500x600 with 1 Axes>"
            ]
          },
          "metadata": {},
          "output_type": "display_data"
        }
      ],
      "source": [
        "import seaborn as sns\n",
        "import matplotlib.pyplot as plt\n",
        "\n",
        "# Assuming 'fd' is your DataFrame and 'RATING' and 'STARS' are the columns you want to include in the KDE plot\n",
        "\n",
        "plt.figure(figsize=(15, 6))  # Adjust the figure size to make room for the legend\n",
        "\n",
        "# Create a KDE plot with color fill\n",
        "sns.kdeplot(data=fd[['RATING', 'STARS']], clip=(0, 5), fill=True)\n",
        "\n",
        "# Customize the legend and move its position\n",
        "plt.legend(['Stars displayed', 'True ratings'], fontsize='large', loc='center right',bbox_to_anchor=(1.25, 0.5))\n",
        "plt.xlabel(\"hiii\")\n",
        "# Show the plot\n",
        "plt.show()\n"
      ]
    },
    {
      "cell_type": "code",
      "execution_count": null,
      "metadata": {
        "id": "Lo1CVqy_EBOZ"
      },
      "outputs": [],
      "source": []
    },
    {
      "cell_type": "markdown",
      "metadata": {
        "id": "5M2fXRq4EBOa"
      },
      "source": [
        "**  : Let's now actually quantify this discrepancy. Create a new column of the different between STARS displayed versus true RATING. Calculate this difference with STARS-RATING and round these differences to the nearest decimal point.**"
      ]
    },
    {
      "cell_type": "code",
      "execution_count": 38,
      "metadata": {
        "id": "O73xZ02bEBOa"
      },
      "outputs": [],
      "source": [
        "#CODE HERE"
      ]
    },
    {
      "cell_type": "code",
      "execution_count": 39,
      "metadata": {
        "id": "8Hd2IsNJEBOa"
      },
      "outputs": [],
      "source": [
        "fd[\"STARS_DIFF\"]=round(fd[\"STARS\"]-fd[\"RATING\"],2)\n",
        "fd\n",
        "num_counts=fd[\"STARS_DIFF\"].value_counts()"
      ]
    },
    {
      "cell_type": "code",
      "execution_count": null,
      "metadata": {
        "id": "UBJItYBMbtlt"
      },
      "outputs": [],
      "source": []
    },
    {
      "cell_type": "code",
      "execution_count": null,
      "metadata": {
        "id": "w9bQ0duBbs0O"
      },
      "outputs": [],
      "source": []
    },
    {
      "cell_type": "code",
      "execution_count": null,
      "metadata": {
        "id": "qptguQDrEBOb"
      },
      "outputs": [],
      "source": []
    },
    {
      "cell_type": "markdown",
      "metadata": {
        "id": "LGt0m95VEBOb"
      },
      "source": [
        "**  : Create a count plot to display the number of times a certain difference occurs:**"
      ]
    },
    {
      "cell_type": "code",
      "execution_count": 40,
      "metadata": {
        "colab": {
          "base_uri": "https://localhost:8080/",
          "height": 575
        },
        "id": "dfRzbP9UEBOb",
        "outputId": "5c13c6a6-ee7b-4a6e-f34f-d0df6021a7fb"
      },
      "outputs": [
        {
          "name": "stderr",
          "output_type": "stream",
          "text": [
            "C:\\Users\\Ayush Gupta\\AppData\\Local\\Temp\\ipykernel_4596\\326339228.py:9: FutureWarning: \n",
            "\n",
            "Passing `palette` without assigning `hue` is deprecated and will be removed in v0.14.0. Assign the `x` variable to `hue` and set `legend=False` for the same effect.\n",
            "\n",
            "  sns.countplot(data=fd, x='STARS_DIFF',palette=cpalette)\n"
          ]
        },
        {
          "data": {
            "text/plain": [
              "<Axes: xlabel='STARS_DIFF', ylabel='count'>"
            ]
          },
          "execution_count": 40,
          "metadata": {},
          "output_type": "execute_result"
        },
        {
          "data": {
            "image/png": "[encoded data removed]",
            "text/plain": [
              "<Figure size 1500x500 with 1 Axes>"
            ]
          },
          "metadata": {},
          "output_type": "display_data"
        }
      ],
      "source": [
        "plt.figure(figsize=(15,5))\n",
        "# cpalette = ['blue', 'green', 'red', 'orange', 'purple', 'yellow', 'cyan']\n",
        "cpalette = sns.color_palette('colorblind', 7)\n",
        "\n",
        "\n",
        "# num_counts = fd[\"STARS_DIFF\"].value_counts()\n",
        "#\n",
        "# sns.countplot(num_counts)\n",
        "sns.countplot(data=fd, x='STARS_DIFF',palette=cpalette)\n"
      ]
    },
    {
      "cell_type": "code",
      "execution_count": null,
      "metadata": {
        "id": "Lfk_BPDiEBOc"
      },
      "outputs": [],
      "source": []
    },
    {
      "cell_type": "code",
      "execution_count": 41,
      "metadata": {
        "colab": {
          "base_uri": "https://localhost:8080/"
        },
        "id": "EPCHR3bLggO2",
        "outputId": "63d74b92-da2e-4386-a17a-be963fdc0868"
      },
      "outputs": [
        {
          "data": {
            "text/plain": [
              "75.40229885057471"
            ]
          },
          "execution_count": 41,
          "metadata": {},
          "output_type": "execute_result"
        }
      ],
      "source": [
        "(len(fd.loc[fd[\"STARS_DIFF\"]>=0.1])/len(fd))*100\n"
      ]
    },
    {
      "cell_type": "code",
      "execution_count": 42,
      "metadata": {
        "id": "M-tNENn8ggMs"
      },
      "outputs": [],
      "source": [
        "# total=len(fd)\n"
      ]
    },
    {
      "cell_type": "code",
      "execution_count": null,
      "metadata": {
        "id": "l-8bhdNfggJO"
      },
      "outputs": [],
      "source": []
    },
    {
      "cell_type": "code",
      "execution_count": null,
      "metadata": {
        "id": "dK1USrJOggHF"
      },
      "outputs": [],
      "source": []
    },
    {
      "cell_type": "code",
      "execution_count": null,
      "metadata": {
        "id": "pBxfEFkDggEO"
      },
      "outputs": [],
      "source": []
    },
    {
      "cell_type": "code",
      "execution_count": null,
      "metadata": {
        "id": "T2m0ToafggB4"
      },
      "outputs": [],
      "source": []
    },
    {
      "cell_type": "code",
      "execution_count": null,
      "metadata": {
        "id": "GaAdXP2sgf_T"
      },
      "outputs": [],
      "source": []
    },
    {
      "cell_type": "markdown",
      "metadata": {
        "id": "Yxpw2TCFEBOc"
      },
      "source": [
        "**  : We can see from the plot that one movie was displaying over a 1 star difference than its true rating! What movie had this close to 1 star differential?**"
      ]
    },
    {
      "cell_type": "code",
      "execution_count": 43,
      "metadata": {
        "colab": {
          "base_uri": "https://localhost:8080/",
          "height": 81
        },
        "id": "XAz6OkYcEBOd",
        "outputId": "b29ef629-f0c8-4513-c9f8-bd38721d1373"
      },
      "outputs": [
        {
          "data": {
            "text/html": [
              "<div>\n",
              "<style scoped>\n",
              "    .dataframe tbody tr th:only-of-type {\n",
              "        vertical-align: middle;\n",
              "    }\n",
              "\n",
              "    .dataframe tbody tr th {\n",
              "        vertical-align: top;\n",
              "    }\n",
              "\n",
              "    .dataframe thead th {\n",
              "        text-align: right;\n",
              "    }\n",
              "</style>\n",
              "<table border=\"1\" class=\"dataframe\">\n",
              "  <thead>\n",
              "    <tr style=\"text-align: right;\">\n",
              "      <th></th>\n",
              "      <th>FILM</th>\n",
              "      <th>STARS</th>\n",
              "      <th>RATING</th>\n",
              "      <th>VOTES</th>\n",
              "      <th>year</th>\n",
              "      <th>STARS_DIFF</th>\n",
              "    </tr>\n",
              "  </thead>\n",
              "  <tbody>\n",
              "    <tr>\n",
              "      <th>381</th>\n",
              "      <td>Turbo Kid (2015)</td>\n",
              "      <td>5.0</td>\n",
              "      <td>4.0</td>\n",
              "      <td>2</td>\n",
              "      <td>2015</td>\n",
              "      <td>1.0</td>\n",
              "    </tr>\n",
              "  </tbody>\n",
              "</table>\n",
              "</div>"
            ],
            "text/plain": [
              "                 FILM  STARS  RATING  VOTES  year  STARS_DIFF\n",
              "381  Turbo Kid (2015)    5.0     4.0      2  2015         1.0"
            ]
          },
          "execution_count": 43,
          "metadata": {},
          "output_type": "execute_result"
        }
      ],
      "source": [
        "#CODE HERE\n",
        "fd.loc[fd[\"STARS_DIFF\"]==1]"
      ]
    },
    {
      "cell_type": "code",
      "execution_count": null,
      "metadata": {
        "id": "8JT2m5AnEBOe"
      },
      "outputs": [],
      "source": []
    },
    {
      "cell_type": "markdown",
      "metadata": {
        "id": "E5ZrdcqJEBOg"
      },
      "source": [
        "## Comparison of Fandango Ratings to Other Sites\n",
        "\n",
        "Let's now compare the scores from Fandango to other movies sites and see how they compare.\n",
        "\n",
        "**  : Read in the \"all_sites_scores.csv\" file by running the cell below**"
      ]
    },
    {
      "cell_type": "code",
      "execution_count": 44,
      "metadata": {
        "colab": {
          "base_uri": "https://localhost:8080/",
          "height": 423
        },
        "id": "wGSlZkB_EBOh",
        "outputId": "e62092dd-c0b5-4543-86bf-50e8e0e20436"
      },
      "outputs": [
        {
          "data": {
            "text/html": [
              "<div>\n",
              "<style scoped>\n",
              "    .dataframe tbody tr th:only-of-type {\n",
              "        vertical-align: middle;\n",
              "    }\n",
              "\n",
              "    .dataframe tbody tr th {\n",
              "        vertical-align: top;\n",
              "    }\n",
              "\n",
              "    .dataframe thead th {\n",
              "        text-align: right;\n",
              "    }\n",
              "</style>\n",
              "<table border=\"1\" class=\"dataframe\">\n",
              "  <thead>\n",
              "    <tr style=\"text-align: right;\">\n",
              "      <th></th>\n",
              "      <th>FILM</th>\n",
              "      <th>RottenTomatoes</th>\n",
              "      <th>RottenTomatoes_User</th>\n",
              "      <th>Metacritic</th>\n",
              "      <th>Metacritic_User</th>\n",
              "      <th>IMDB</th>\n",
              "      <th>Metacritic_user_vote_count</th>\n",
              "      <th>IMDB_user_vote_count</th>\n",
              "    </tr>\n",
              "  </thead>\n",
              "  <tbody>\n",
              "    <tr>\n",
              "      <th>0</th>\n",
              "      <td>Avengers: Age of Ultron (2015)</td>\n",
              "      <td>74</td>\n",
              "      <td>86</td>\n",
              "      <td>66</td>\n",
              "      <td>7.1</td>\n",
              "      <td>7.8</td>\n",
              "      <td>1330</td>\n",
              "      <td>271107</td>\n",
              "    </tr>\n",
              "    <tr>\n",
              "      <th>1</th>\n",
              "      <td>Cinderella (2015)</td>\n",
              "      <td>85</td>\n",
              "      <td>80</td>\n",
              "      <td>67</td>\n",
              "      <td>7.5</td>\n",
              "      <td>7.1</td>\n",
              "      <td>249</td>\n",
              "      <td>65709</td>\n",
              "    </tr>\n",
              "    <tr>\n",
              "      <th>2</th>\n",
              "      <td>Ant-Man (2015)</td>\n",
              "      <td>80</td>\n",
              "      <td>90</td>\n",
              "      <td>64</td>\n",
              "      <td>8.1</td>\n",
              "      <td>7.8</td>\n",
              "      <td>627</td>\n",
              "      <td>103660</td>\n",
              "    </tr>\n",
              "    <tr>\n",
              "      <th>3</th>\n",
              "      <td>Do You Believe? (2015)</td>\n",
              "      <td>18</td>\n",
              "      <td>84</td>\n",
              "      <td>22</td>\n",
              "      <td>4.7</td>\n",
              "      <td>5.4</td>\n",
              "      <td>31</td>\n",
              "      <td>3136</td>\n",
              "    </tr>\n",
              "    <tr>\n",
              "      <th>4</th>\n",
              "      <td>Hot Tub Time Machine 2 (2015)</td>\n",
              "      <td>14</td>\n",
              "      <td>28</td>\n",
              "      <td>29</td>\n",
              "      <td>3.4</td>\n",
              "      <td>5.1</td>\n",
              "      <td>88</td>\n",
              "      <td>19560</td>\n",
              "    </tr>\n",
              "    <tr>\n",
              "      <th>...</th>\n",
              "      <td>...</td>\n",
              "      <td>...</td>\n",
              "      <td>...</td>\n",
              "      <td>...</td>\n",
              "      <td>...</td>\n",
              "      <td>...</td>\n",
              "      <td>...</td>\n",
              "      <td>...</td>\n",
              "    </tr>\n",
              "    <tr>\n",
              "      <th>141</th>\n",
              "      <td>Mr. Holmes (2015)</td>\n",
              "      <td>87</td>\n",
              "      <td>78</td>\n",
              "      <td>67</td>\n",
              "      <td>7.9</td>\n",
              "      <td>7.4</td>\n",
              "      <td>33</td>\n",
              "      <td>7367</td>\n",
              "    </tr>\n",
              "    <tr>\n",
              "      <th>142</th>\n",
              "      <td>'71 (2015)</td>\n",
              "      <td>97</td>\n",
              "      <td>82</td>\n",
              "      <td>83</td>\n",
              "      <td>7.5</td>\n",
              "      <td>7.2</td>\n",
              "      <td>60</td>\n",
              "      <td>24116</td>\n",
              "    </tr>\n",
              "    <tr>\n",
              "      <th>143</th>\n",
              "      <td>Two Days, One Night (2014)</td>\n",
              "      <td>97</td>\n",
              "      <td>78</td>\n",
              "      <td>89</td>\n",
              "      <td>8.8</td>\n",
              "      <td>7.4</td>\n",
              "      <td>123</td>\n",
              "      <td>24345</td>\n",
              "    </tr>\n",
              "    <tr>\n",
              "      <th>144</th>\n",
              "      <td>Gett: The Trial of Viviane Amsalem (2015)</td>\n",
              "      <td>100</td>\n",
              "      <td>81</td>\n",
              "      <td>90</td>\n",
              "      <td>7.3</td>\n",
              "      <td>7.8</td>\n",
              "      <td>19</td>\n",
              "      <td>1955</td>\n",
              "    </tr>\n",
              "    <tr>\n",
              "      <th>145</th>\n",
              "      <td>Kumiko, The Treasure Hunter (2015)</td>\n",
              "      <td>87</td>\n",
              "      <td>63</td>\n",
              "      <td>68</td>\n",
              "      <td>6.4</td>\n",
              "      <td>6.7</td>\n",
              "      <td>19</td>\n",
              "      <td>5289</td>\n",
              "    </tr>\n",
              "  </tbody>\n",
              "</table>\n",
              "<p>146 rows × 8 columns</p>\n",
              "</div>"
            ],
            "text/plain": [
              "                                          FILM  RottenTomatoes  \\\n",
              "0               Avengers: Age of Ultron (2015)              74   \n",
              "1                            Cinderella (2015)              85   \n",
              "2                               Ant-Man (2015)              80   \n",
              "3                       Do You Believe? (2015)              18   \n",
              "4                Hot Tub Time Machine 2 (2015)              14   \n",
              "..                                         ...             ...   \n",
              "141                          Mr. Holmes (2015)              87   \n",
              "142                                 '71 (2015)              97   \n",
              "143                 Two Days, One Night (2014)              97   \n",
              "144  Gett: The Trial of Viviane Amsalem (2015)             100   \n",
              "145         Kumiko, The Treasure Hunter (2015)              87   \n",
              "\n",
              "     RottenTomatoes_User  Metacritic  Metacritic_User  IMDB  \\\n",
              "0                     86          66              7.1   7.8   \n",
              "1                     80          67              7.5   7.1   \n",
              "2                     90          64              8.1   7.8   \n",
              "3                     84          22              4.7   5.4   \n",
              "4                     28          29              3.4   5.1   \n",
              "..                   ...         ...              ...   ...   \n",
              "141                   78          67              7.9   7.4   \n",
              "142                   82          83              7.5   7.2   \n",
              "143                   78          89              8.8   7.4   \n",
              "144                   81          90              7.3   7.8   \n",
              "145                   63          68              6.4   6.7   \n",
              "\n",
              "     Metacritic_user_vote_count  IMDB_user_vote_count  \n",
              "0                          1330                271107  \n",
              "1                           249                 65709  \n",
              "2                           627                103660  \n",
              "3                            31                  3136  \n",
              "4                            88                 19560  \n",
              "..                          ...                   ...  \n",
              "141                          33                  7367  \n",
              "142                          60                 24116  \n",
              "143                         123                 24345  \n",
              "144                          19                  1955  \n",
              "145                          19                  5289  \n",
              "\n",
              "[146 rows x 8 columns]"
            ]
          },
          "execution_count": 44,
          "metadata": {},
          "output_type": "execute_result"
        }
      ],
      "source": [
        "ass= pd.read_csv(\"all_sites_scores.csv\")\n",
        "ass"
      ]
    },
    {
      "cell_type": "markdown",
      "metadata": {
        "id": "fu89i-mUEBOh"
      },
      "source": [
        "**  : Explore the DataFrame columns, info, description.**"
      ]
    },
    {
      "cell_type": "code",
      "execution_count": 45,
      "metadata": {
        "colab": {
          "base_uri": "https://localhost:8080/",
          "height": 574
        },
        "id": "05ObEFc1EBOi",
        "outputId": "b72535e4-6493-48b9-d9e8-4c8d5c499a2d"
      },
      "outputs": [
        {
          "name": "stdout",
          "output_type": "stream",
          "text": [
            "<class 'pandas.core.frame.DataFrame'>\n",
            "RangeIndex: 146 entries, 0 to 145\n",
            "Data columns (total 8 columns):\n",
            " #   Column                      Non-Null Count  Dtype  \n",
            "---  ------                      --------------  -----  \n",
            " 0   FILM                        146 non-null    object \n",
            " 1   RottenTomatoes              146 non-null    int64  \n",
            " 2   RottenTomatoes_User         146 non-null    int64  \n",
            " 3   Metacritic                  146 non-null    int64  \n",
            " 4   Metacritic_User             146 non-null    float64\n",
            " 5   IMDB                        146 non-null    float64\n",
            " 6   Metacritic_user_vote_count  146 non-null    int64  \n",
            " 7   IMDB_user_vote_count        146 non-null    int64  \n",
            "dtypes: float64(2), int64(5), object(1)\n",
            "memory usage: 9.3+ KB\n"
          ]
        },
        {
          "data": {
            "text/html": [
              "<div>\n",
              "<style scoped>\n",
              "    .dataframe tbody tr th:only-of-type {\n",
              "        vertical-align: middle;\n",
              "    }\n",
              "\n",
              "    .dataframe tbody tr th {\n",
              "        vertical-align: top;\n",
              "    }\n",
              "\n",
              "    .dataframe thead th {\n",
              "        text-align: right;\n",
              "    }\n",
              "</style>\n",
              "<table border=\"1\" class=\"dataframe\">\n",
              "  <thead>\n",
              "    <tr style=\"text-align: right;\">\n",
              "      <th></th>\n",
              "      <th>RottenTomatoes</th>\n",
              "      <th>RottenTomatoes_User</th>\n",
              "      <th>Metacritic</th>\n",
              "      <th>Metacritic_User</th>\n",
              "      <th>IMDB</th>\n",
              "      <th>Metacritic_user_vote_count</th>\n",
              "      <th>IMDB_user_vote_count</th>\n",
              "    </tr>\n",
              "  </thead>\n",
              "  <tbody>\n",
              "    <tr>\n",
              "      <th>count</th>\n",
              "      <td>146.000000</td>\n",
              "      <td>146.000000</td>\n",
              "      <td>146.000000</td>\n",
              "      <td>146.000000</td>\n",
              "      <td>146.000000</td>\n",
              "      <td>146.000000</td>\n",
              "      <td>146.000000</td>\n",
              "    </tr>\n",
              "    <tr>\n",
              "      <th>mean</th>\n",
              "      <td>60.849315</td>\n",
              "      <td>63.876712</td>\n",
              "      <td>58.808219</td>\n",
              "      <td>6.519178</td>\n",
              "      <td>6.736986</td>\n",
              "      <td>185.705479</td>\n",
              "      <td>42846.205479</td>\n",
              "    </tr>\n",
              "    <tr>\n",
              "      <th>std</th>\n",
              "      <td>30.168799</td>\n",
              "      <td>20.024430</td>\n",
              "      <td>19.517389</td>\n",
              "      <td>1.510712</td>\n",
              "      <td>0.958736</td>\n",
              "      <td>316.606515</td>\n",
              "      <td>67406.509171</td>\n",
              "    </tr>\n",
              "    <tr>\n",
              "      <th>min</th>\n",
              "      <td>5.000000</td>\n",
              "      <td>20.000000</td>\n",
              "      <td>13.000000</td>\n",
              "      <td>2.400000</td>\n",
              "      <td>4.000000</td>\n",
              "      <td>4.000000</td>\n",
              "      <td>243.000000</td>\n",
              "    </tr>\n",
              "    <tr>\n",
              "      <th>25%</th>\n",
              "      <td>31.250000</td>\n",
              "      <td>50.000000</td>\n",
              "      <td>43.500000</td>\n",
              "      <td>5.700000</td>\n",
              "      <td>6.300000</td>\n",
              "      <td>33.250000</td>\n",
              "      <td>5627.000000</td>\n",
              "    </tr>\n",
              "    <tr>\n",
              "      <th>50%</th>\n",
              "      <td>63.500000</td>\n",
              "      <td>66.500000</td>\n",
              "      <td>59.000000</td>\n",
              "      <td>6.850000</td>\n",
              "      <td>6.900000</td>\n",
              "      <td>72.500000</td>\n",
              "      <td>19103.000000</td>\n",
              "    </tr>\n",
              "    <tr>\n",
              "      <th>75%</th>\n",
              "      <td>89.000000</td>\n",
              "      <td>81.000000</td>\n",
              "      <td>75.000000</td>\n",
              "      <td>7.500000</td>\n",
              "      <td>7.400000</td>\n",
              "      <td>168.500000</td>\n",
              "      <td>45185.750000</td>\n",
              "    </tr>\n",
              "    <tr>\n",
              "      <th>max</th>\n",
              "      <td>100.000000</td>\n",
              "      <td>94.000000</td>\n",
              "      <td>94.000000</td>\n",
              "      <td>9.600000</td>\n",
              "      <td>8.600000</td>\n",
              "      <td>2375.000000</td>\n",
              "      <td>334164.000000</td>\n",
              "    </tr>\n",
              "  </tbody>\n",
              "</table>\n",
              "</div>"
            ],
            "text/plain": [
              "       RottenTomatoes  RottenTomatoes_User  Metacritic  Metacritic_User  \\\n",
              "count      146.000000           146.000000  146.000000       146.000000   \n",
              "mean        60.849315            63.876712   58.808219         6.519178   \n",
              "std         30.168799            20.024430   19.517389         1.510712   \n",
              "min          5.000000            20.000000   13.000000         2.400000   \n",
              "25%         31.250000            50.000000   43.500000         5.700000   \n",
              "50%         63.500000            66.500000   59.000000         6.850000   \n",
              "75%         89.000000            81.000000   75.000000         7.500000   \n",
              "max        100.000000            94.000000   94.000000         9.600000   \n",
              "\n",
              "             IMDB  Metacritic_user_vote_count  IMDB_user_vote_count  \n",
              "count  146.000000                  146.000000            146.000000  \n",
              "mean     6.736986                  185.705479          42846.205479  \n",
              "std      0.958736                  316.606515          67406.509171  \n",
              "min      4.000000                    4.000000            243.000000  \n",
              "25%      6.300000                   33.250000           5627.000000  \n",
              "50%      6.900000                   72.500000          19103.000000  \n",
              "75%      7.400000                  168.500000          45185.750000  \n",
              "max      8.600000                 2375.000000         334164.000000  "
            ]
          },
          "execution_count": 45,
          "metadata": {},
          "output_type": "execute_result"
        }
      ],
      "source": [
        "ass.info()\n",
        "ass.describe()\n",
        "\n"
      ]
    },
    {
      "cell_type": "code",
      "execution_count": null,
      "metadata": {
        "id": "0mxIfu5aEBOi"
      },
      "outputs": [],
      "source": []
    },
    {
      "cell_type": "code",
      "execution_count": null,
      "metadata": {
        "id": "sYT-S_y9EBOj"
      },
      "outputs": [],
      "source": []
    },
    {
      "cell_type": "code",
      "execution_count": null,
      "metadata": {
        "id": "1y9Vv0fjEBOk"
      },
      "outputs": [],
      "source": []
    },
    {
      "cell_type": "markdown",
      "metadata": {
        "id": "eZ4sxg-rEBOk"
      },
      "source": [
        "### Rotten Tomatoes\n",
        "\n",
        "Let's first take a look at Rotten Tomatoes. RT has two sets of reviews, their critics reviews (ratings published by official critics) and user reviews.\n",
        "\n",
        "**  : Create a scatterplot exploring the relationship between RT Critic reviews and RT User reviews.**"
      ]
    },
    {
      "cell_type": "code",
      "execution_count": null,
      "metadata": {
        "id": "WGc3AxObEBOl"
      },
      "outputs": [],
      "source": [
        " "
      ]
    },
    {
      "cell_type": "code",
      "execution_count": 46,
      "metadata": {
        "colab": {
          "base_uri": "https://localhost:8080/",
          "height": 483
        },
        "id": "KeUNyd-mEBOl",
        "outputId": "22f9a661-c374-48f5-f14b-7de96a5acb24"
      },
      "outputs": [
        {
          "data": {
            "text/plain": [
              "<Axes: xlabel='RottenTomatoes', ylabel='RottenTomatoes_User'>"
            ]
          },
          "execution_count": 46,
          "metadata": {},
          "output_type": "execute_result"
        },
        {
          "data": {
            "image/png": "[encoded data removed]",
            "text/plain": [
              "<Figure size 1500x500 with 1 Axes>"
            ]
          },
          "metadata": {},
          "output_type": "display_data"
        }
      ],
      "source": [
        "plt.figure(figsize=(15,5))\n",
        "sns.scatterplot( data=ass,x=ass[\"RottenTomatoes\"],y=\"RottenTomatoes_User\")"
      ]
    },
    {
      "cell_type": "markdown",
      "metadata": {
        "id": "Z0GMpWAFEBOm"
      },
      "source": [
        "Let's quantify this difference by comparing the critics ratings and the RT User ratings. We will calculate this with RottenTomatoes-RottenTomatoes_User. Note: Rotten_Diff here is Critics - User Score. So values closer to 0 means aggrement between Critics and Users. Larger positive values means critics rated much higher than users. Larger negative values means users rated much higher than critics.\n",
        "\n",
        "**  : Create a new column based off the difference between critics ratings and users ratings for Rotten Tomatoes. Calculate this with RottenTomatoes-RottenTomatoes_User**"
      ]
    },
    {
      "cell_type": "code",
      "execution_count": 47,
      "metadata": {
        "colab": {
          "base_uri": "https://localhost:8080/"
        },
        "id": "aX4ci7AjEBOn",
        "outputId": "69e76fd7-e12f-4e1a-c533-5138343105f1"
      },
      "outputs": [
        {
          "data": {
            "text/plain": [
              "0     -12\n",
              "1       5\n",
              "2     -10\n",
              "3     -66\n",
              "4     -14\n",
              "       ..\n",
              "141     9\n",
              "142    15\n",
              "143    19\n",
              "144    19\n",
              "145    24\n",
              "Name: Rotten_Diff, Length: 146, dtype: int64"
            ]
          },
          "execution_count": 47,
          "metadata": {},
          "output_type": "execute_result"
        }
      ],
      "source": [
        "#CODE HERE\n",
        "ass[\"Rotten_Diff\"]=ass[\"RottenTomatoes\"]-ass[\"RottenTomatoes_User\"]\n",
        "ass[\"Rotten_Diff\"]"
      ]
    },
    {
      "cell_type": "code",
      "execution_count": 48,
      "metadata": {
        "colab": {
          "base_uri": "https://localhost:8080/"
        },
        "id": "WacANC9kEBOn",
        "outputId": "24890ed3-fdd1-4602-f6d1-f5fabdcf6fd4"
      },
      "outputs": [
        {
          "data": {
            "text/plain": [
              "15.095890410958905"
            ]
          },
          "execution_count": 48,
          "metadata": {},
          "output_type": "execute_result"
        }
      ],
      "source": [
        "ass[\"Rotten_Diff\"].abs().mean()\n"
      ]
    },
    {
      "cell_type": "markdown",
      "metadata": {
        "id": "Ga1dbDQ0EBOn"
      },
      "source": [
        "Let's now compare the overall mean difference. Since we're dealing with differences that could be negative or positive, first take the absolute value of all the differences, then take the mean. This would report back on average to absolute difference between the critics rating versus the user rating."
      ]
    },
    {
      "cell_type": "markdown",
      "metadata": {
        "id": "icGBDwfhEBOo"
      },
      "source": [
        "**  : Calculate the Mean Absolute Difference between RT scores and RT User scores as described above.**"
      ]
    },
    {
      "cell_type": "code",
      "execution_count": null,
      "metadata": {
        "id": "qmIrL20hEBOo"
      },
      "outputs": [],
      "source": [
        " "
      ]
    },
    {
      "cell_type": "code",
      "execution_count": null,
      "metadata": {
        "id": "zIFyvttZEBOo"
      },
      "outputs": [],
      "source": []
    },
    {
      "cell_type": "markdown",
      "metadata": {
        "id": "Fo1PbpbFEBOp"
      },
      "source": [
        "**  : Plot the distribution of the differences between RT Critics Score and RT User Score. There should be negative values in this distribution plot. Feel free to use KDE or Histograms to display this distribution.**"
      ]
    },
    {
      "cell_type": "code",
      "execution_count": 49,
      "metadata": {
        "colab": {
          "base_uri": "https://localhost:8080/",
          "height": 560
        },
        "id": "ZjKm87CoEBOp",
        "outputId": "a1ee0ad7-d1c6-43c4-91ed-2a145b4167e4"
      },
      "outputs": [
        {
          "data": {
            "text/plain": [
              "<Axes: xlabel='Rotten_Diff', ylabel='Count'>"
            ]
          },
          "execution_count": 49,
          "metadata": {},
          "output_type": "execute_result"
        },
        {
          "data": {
            "image/png": "[encoded data removed]",
            "text/plain": [
              "<Figure size 1700x600 with 1 Axes>"
            ]
          },
          "metadata": {},
          "output_type": "display_data"
        }
      ],
      "source": [
        "#CODE HERE\n",
        "plt.figure(figsize=(17,6))\n",
        "sns.histplot(ass[\"Rotten_Diff\"],binwidth=4)\n",
        "# sns.lineplot(data=ass[\"Rotten_Diff\"], color='red')\n",
        "\n"
      ]
    },
    {
      "cell_type": "code",
      "execution_count": null,
      "metadata": {
        "id": "fcIBVgATEBOq"
      },
      "outputs": [],
      "source": []
    },
    {
      "cell_type": "markdown",
      "metadata": {
        "id": "i1rOk0xmEBOq"
      },
      "source": [
        "**  : Now create a distribution showing the *absolute value* difference between Critics and Users on Rotten Tomatoes.**"
      ]
    },
    {
      "cell_type": "code",
      "execution_count": 50,
      "metadata": {
        "colab": {
          "base_uri": "https://localhost:8080/",
          "height": 505
        },
        "id": "0iaNK0DHEBOq",
        "outputId": "ea6873d9-5f63-4c4f-b8d4-e33fd7ae9975"
      },
      "outputs": [
        {
          "data": {
            "text/plain": [
              "<Axes: title={'center': 'abs between '}, xlabel='Rotten_Diff', ylabel='Count'>"
            ]
          },
          "execution_count": 50,
          "metadata": {},
          "output_type": "execute_result"
        },
        {
          "data": {
            "image/png": "[encoded data removed]",
            "text/plain": [
              "<Figure size 1500x500 with 1 Axes>"
            ]
          },
          "metadata": {},
          "output_type": "display_data"
        }
      ],
      "source": [
        "#CODE HERE\n",
        "plt.figure(figsize=(15,5))\n",
        "plt.title(\"abs between \")\n",
        "sns.histplot(ass[\"Rotten_Diff\"].abs(),binwidth=2.7)"
      ]
    },
    {
      "cell_type": "code",
      "execution_count": null,
      "metadata": {
        "id": "sGvseH06EBOr"
      },
      "outputs": [],
      "source": []
    },
    {
      "cell_type": "markdown",
      "metadata": {
        "id": "6ew-WNmNEBOs"
      },
      "source": [
        "**Let's find out which movies are causing the largest differences. First, show the top 5 movies with the largest *negative* difference between Users and RT critics. Since we calculated the difference as Critics Rating - Users Rating, then large negative values imply the users rated the movie much higher on average than the critics did.**"
      ]
    },
    {
      "cell_type": "markdown",
      "metadata": {
        "id": "NObe28otEBOs"
      },
      "source": [
        "**  : What are the top 5 movies users rated higher than critics on average:**"
      ]
    },
    {
      "cell_type": "code",
      "execution_count": 51,
      "metadata": {
        "colab": {
          "base_uri": "https://localhost:8080/",
          "height": 206
        },
        "id": "uZtRWPj6EBOs",
        "outputId": "c34fe263-f7e6-4b69-c0ce-33b9a4352e59"
      },
      "outputs": [
        {
          "data": {
            "text/html": [
              "<div>\n",
              "<style scoped>\n",
              "    .dataframe tbody tr th:only-of-type {\n",
              "        vertical-align: middle;\n",
              "    }\n",
              "\n",
              "    .dataframe tbody tr th {\n",
              "        vertical-align: top;\n",
              "    }\n",
              "\n",
              "    .dataframe thead th {\n",
              "        text-align: right;\n",
              "    }\n",
              "</style>\n",
              "<table border=\"1\" class=\"dataframe\">\n",
              "  <thead>\n",
              "    <tr style=\"text-align: right;\">\n",
              "      <th></th>\n",
              "      <th>FILM</th>\n",
              "      <th>Rotten_Diff</th>\n",
              "    </tr>\n",
              "  </thead>\n",
              "  <tbody>\n",
              "    <tr>\n",
              "      <th>3</th>\n",
              "      <td>Do You Believe? (2015)</td>\n",
              "      <td>-66</td>\n",
              "    </tr>\n",
              "    <tr>\n",
              "      <th>85</th>\n",
              "      <td>Little Boy (2015)</td>\n",
              "      <td>-61</td>\n",
              "    </tr>\n",
              "    <tr>\n",
              "      <th>134</th>\n",
              "      <td>The Longest Ride (2015)</td>\n",
              "      <td>-42</td>\n",
              "    </tr>\n",
              "    <tr>\n",
              "      <th>105</th>\n",
              "      <td>Hitman: Agent 47 (2015)</td>\n",
              "      <td>-42</td>\n",
              "    </tr>\n",
              "    <tr>\n",
              "      <th>125</th>\n",
              "      <td>The Wedding Ringer (2015)</td>\n",
              "      <td>-39</td>\n",
              "    </tr>\n",
              "  </tbody>\n",
              "</table>\n",
              "</div>"
            ],
            "text/plain": [
              "                          FILM  Rotten_Diff\n",
              "3       Do You Believe? (2015)          -66\n",
              "85           Little Boy (2015)          -61\n",
              "134    The Longest Ride (2015)          -42\n",
              "105    Hitman: Agent 47 (2015)          -42\n",
              "125  The Wedding Ringer (2015)          -39"
            ]
          },
          "execution_count": 51,
          "metadata": {},
          "output_type": "execute_result"
        }
      ],
      "source": [
        " \n",
        "# ass.sort_index(ass[\"Rotten_Diff\"])a\n",
        "ass.sort_values(by=[\"Rotten_Diff\"])[[\"FILM\",\t\"Rotten_Diff\"]].head()"
      ]
    },
    {
      "cell_type": "code",
      "execution_count": null,
      "metadata": {
        "id": "vDWKGTKFEBOt"
      },
      "outputs": [],
      "source": []
    },
    {
      "cell_type": "markdown",
      "metadata": {
        "id": "bG4XL1d-EBOt"
      },
      "source": [
        "**  : Now show the top 5 movies critics scores higher than users on average.**"
      ]
    },
    {
      "cell_type": "code",
      "execution_count": null,
      "metadata": {
        "id": "fbm-mEDREBOt"
      },
      "outputs": [],
      "source": [
        " "
      ]
    },
    {
      "cell_type": "code",
      "execution_count": 52,
      "metadata": {
        "colab": {
          "base_uri": "https://localhost:8080/",
          "height": 206
        },
        "id": "c5RntevzEBOu",
        "outputId": "cdd79f46-ce7f-4811-80f8-f63c1afad9e2"
      },
      "outputs": [
        {
          "data": {
            "text/html": [
              "<div>\n",
              "<style scoped>\n",
              "    .dataframe tbody tr th:only-of-type {\n",
              "        vertical-align: middle;\n",
              "    }\n",
              "\n",
              "    .dataframe tbody tr th {\n",
              "        vertical-align: top;\n",
              "    }\n",
              "\n",
              "    .dataframe thead th {\n",
              "        text-align: right;\n",
              "    }\n",
              "</style>\n",
              "<table border=\"1\" class=\"dataframe\">\n",
              "  <thead>\n",
              "    <tr style=\"text-align: right;\">\n",
              "      <th></th>\n",
              "      <th>FILM</th>\n",
              "      <th>Rotten_Diff</th>\n",
              "    </tr>\n",
              "  </thead>\n",
              "  <tbody>\n",
              "    <tr>\n",
              "      <th>69</th>\n",
              "      <td>Mr. Turner (2014)</td>\n",
              "      <td>42</td>\n",
              "    </tr>\n",
              "    <tr>\n",
              "      <th>112</th>\n",
              "      <td>It Follows (2015)</td>\n",
              "      <td>31</td>\n",
              "    </tr>\n",
              "    <tr>\n",
              "      <th>115</th>\n",
              "      <td>While We're Young (2015)</td>\n",
              "      <td>31</td>\n",
              "    </tr>\n",
              "    <tr>\n",
              "      <th>145</th>\n",
              "      <td>Kumiko, The Treasure Hunter (2015)</td>\n",
              "      <td>24</td>\n",
              "    </tr>\n",
              "    <tr>\n",
              "      <th>37</th>\n",
              "      <td>Welcome to Me (2015)</td>\n",
              "      <td>24</td>\n",
              "    </tr>\n",
              "  </tbody>\n",
              "</table>\n",
              "</div>"
            ],
            "text/plain": [
              "                                   FILM  Rotten_Diff\n",
              "69                    Mr. Turner (2014)           42\n",
              "112                   It Follows (2015)           31\n",
              "115            While We're Young (2015)           31\n",
              "145  Kumiko, The Treasure Hunter (2015)           24\n",
              "37                 Welcome to Me (2015)           24"
            ]
          },
          "execution_count": 52,
          "metadata": {},
          "output_type": "execute_result"
        }
      ],
      "source": [
        "ass.sort_values(by=[\"Rotten_Diff\"],ascending=False)[[\"FILM\",\t\"Rotten_Diff\"]].head()\n"
      ]
    },
    {
      "cell_type": "markdown",
      "metadata": {
        "id": "9RXm4IPrEBOu"
      },
      "source": [
        "## MetaCritic\n",
        "\n",
        "Now let's take a quick look at the ratings from MetaCritic. Metacritic also shows an average user rating versus their official displayed rating."
      ]
    },
    {
      "cell_type": "markdown",
      "metadata": {
        "id": "4Fw71K2SEBOv"
      },
      "source": [
        "**  : Display a scatterplot of the Metacritic Rating versus the Metacritic User rating.**"
      ]
    },
    {
      "cell_type": "code",
      "execution_count": 53,
      "metadata": {
        "colab": {
          "base_uri": "https://localhost:8080/",
          "height": 423
        },
        "id": "_BIp-Avrg7bU",
        "outputId": "82aac052-5185-4fff-b91c-733e4f6e1d2e"
      },
      "outputs": [
        {
          "data": {
            "text/html": [
              "<div>\n",
              "<style scoped>\n",
              "    .dataframe tbody tr th:only-of-type {\n",
              "        vertical-align: middle;\n",
              "    }\n",
              "\n",
              "    .dataframe tbody tr th {\n",
              "        vertical-align: top;\n",
              "    }\n",
              "\n",
              "    .dataframe thead th {\n",
              "        text-align: right;\n",
              "    }\n",
              "</style>\n",
              "<table border=\"1\" class=\"dataframe\">\n",
              "  <thead>\n",
              "    <tr style=\"text-align: right;\">\n",
              "      <th></th>\n",
              "      <th>FILM</th>\n",
              "      <th>RottenTomatoes</th>\n",
              "      <th>RottenTomatoes_User</th>\n",
              "      <th>Metacritic</th>\n",
              "      <th>Metacritic_User</th>\n",
              "      <th>IMDB</th>\n",
              "      <th>Metacritic_user_vote_count</th>\n",
              "      <th>IMDB_user_vote_count</th>\n",
              "      <th>Rotten_Diff</th>\n",
              "    </tr>\n",
              "  </thead>\n",
              "  <tbody>\n",
              "    <tr>\n",
              "      <th>0</th>\n",
              "      <td>Avengers: Age of Ultron (2015)</td>\n",
              "      <td>74</td>\n",
              "      <td>86</td>\n",
              "      <td>66</td>\n",
              "      <td>7.1</td>\n",
              "      <td>7.8</td>\n",
              "      <td>1330</td>\n",
              "      <td>271107</td>\n",
              "      <td>-12</td>\n",
              "    </tr>\n",
              "    <tr>\n",
              "      <th>1</th>\n",
              "      <td>Cinderella (2015)</td>\n",
              "      <td>85</td>\n",
              "      <td>80</td>\n",
              "      <td>67</td>\n",
              "      <td>7.5</td>\n",
              "      <td>7.1</td>\n",
              "      <td>249</td>\n",
              "      <td>65709</td>\n",
              "      <td>5</td>\n",
              "    </tr>\n",
              "    <tr>\n",
              "      <th>2</th>\n",
              "      <td>Ant-Man (2015)</td>\n",
              "      <td>80</td>\n",
              "      <td>90</td>\n",
              "      <td>64</td>\n",
              "      <td>8.1</td>\n",
              "      <td>7.8</td>\n",
              "      <td>627</td>\n",
              "      <td>103660</td>\n",
              "      <td>-10</td>\n",
              "    </tr>\n",
              "    <tr>\n",
              "      <th>3</th>\n",
              "      <td>Do You Believe? (2015)</td>\n",
              "      <td>18</td>\n",
              "      <td>84</td>\n",
              "      <td>22</td>\n",
              "      <td>4.7</td>\n",
              "      <td>5.4</td>\n",
              "      <td>31</td>\n",
              "      <td>3136</td>\n",
              "      <td>-66</td>\n",
              "    </tr>\n",
              "    <tr>\n",
              "      <th>4</th>\n",
              "      <td>Hot Tub Time Machine 2 (2015)</td>\n",
              "      <td>14</td>\n",
              "      <td>28</td>\n",
              "      <td>29</td>\n",
              "      <td>3.4</td>\n",
              "      <td>5.1</td>\n",
              "      <td>88</td>\n",
              "      <td>19560</td>\n",
              "      <td>-14</td>\n",
              "    </tr>\n",
              "    <tr>\n",
              "      <th>...</th>\n",
              "      <td>...</td>\n",
              "      <td>...</td>\n",
              "      <td>...</td>\n",
              "      <td>...</td>\n",
              "      <td>...</td>\n",
              "      <td>...</td>\n",
              "      <td>...</td>\n",
              "      <td>...</td>\n",
              "      <td>...</td>\n",
              "    </tr>\n",
              "    <tr>\n",
              "      <th>141</th>\n",
              "      <td>Mr. Holmes (2015)</td>\n",
              "      <td>87</td>\n",
              "      <td>78</td>\n",
              "      <td>67</td>\n",
              "      <td>7.9</td>\n",
              "      <td>7.4</td>\n",
              "      <td>33</td>\n",
              "      <td>7367</td>\n",
              "      <td>9</td>\n",
              "    </tr>\n",
              "    <tr>\n",
              "      <th>142</th>\n",
              "      <td>'71 (2015)</td>\n",
              "      <td>97</td>\n",
              "      <td>82</td>\n",
              "      <td>83</td>\n",
              "      <td>7.5</td>\n",
              "      <td>7.2</td>\n",
              "      <td>60</td>\n",
              "      <td>24116</td>\n",
              "      <td>15</td>\n",
              "    </tr>\n",
              "    <tr>\n",
              "      <th>143</th>\n",
              "      <td>Two Days, One Night (2014)</td>\n",
              "      <td>97</td>\n",
              "      <td>78</td>\n",
              "      <td>89</td>\n",
              "      <td>8.8</td>\n",
              "      <td>7.4</td>\n",
              "      <td>123</td>\n",
              "      <td>24345</td>\n",
              "      <td>19</td>\n",
              "    </tr>\n",
              "    <tr>\n",
              "      <th>144</th>\n",
              "      <td>Gett: The Trial of Viviane Amsalem (2015)</td>\n",
              "      <td>100</td>\n",
              "      <td>81</td>\n",
              "      <td>90</td>\n",
              "      <td>7.3</td>\n",
              "      <td>7.8</td>\n",
              "      <td>19</td>\n",
              "      <td>1955</td>\n",
              "      <td>19</td>\n",
              "    </tr>\n",
              "    <tr>\n",
              "      <th>145</th>\n",
              "      <td>Kumiko, The Treasure Hunter (2015)</td>\n",
              "      <td>87</td>\n",
              "      <td>63</td>\n",
              "      <td>68</td>\n",
              "      <td>6.4</td>\n",
              "      <td>6.7</td>\n",
              "      <td>19</td>\n",
              "      <td>5289</td>\n",
              "      <td>24</td>\n",
              "    </tr>\n",
              "  </tbody>\n",
              "</table>\n",
              "<p>146 rows × 9 columns</p>\n",
              "</div>"
            ],
            "text/plain": [
              "                                          FILM  RottenTomatoes  \\\n",
              "0               Avengers: Age of Ultron (2015)              74   \n",
              "1                            Cinderella (2015)              85   \n",
              "2                               Ant-Man (2015)              80   \n",
              "3                       Do You Believe? (2015)              18   \n",
              "4                Hot Tub Time Machine 2 (2015)              14   \n",
              "..                                         ...             ...   \n",
              "141                          Mr. Holmes (2015)              87   \n",
              "142                                 '71 (2015)              97   \n",
              "143                 Two Days, One Night (2014)              97   \n",
              "144  Gett: The Trial of Viviane Amsalem (2015)             100   \n",
              "145         Kumiko, The Treasure Hunter (2015)              87   \n",
              "\n",
              "     RottenTomatoes_User  Metacritic  Metacritic_User  IMDB  \\\n",
              "0                     86          66              7.1   7.8   \n",
              "1                     80          67              7.5   7.1   \n",
              "2                     90          64              8.1   7.8   \n",
              "3                     84          22              4.7   5.4   \n",
              "4                     28          29              3.4   5.1   \n",
              "..                   ...         ...              ...   ...   \n",
              "141                   78          67              7.9   7.4   \n",
              "142                   82          83              7.5   7.2   \n",
              "143                   78          89              8.8   7.4   \n",
              "144                   81          90              7.3   7.8   \n",
              "145                   63          68              6.4   6.7   \n",
              "\n",
              "     Metacritic_user_vote_count  IMDB_user_vote_count  Rotten_Diff  \n",
              "0                          1330                271107          -12  \n",
              "1                           249                 65709            5  \n",
              "2                           627                103660          -10  \n",
              "3                            31                  3136          -66  \n",
              "4                            88                 19560          -14  \n",
              "..                          ...                   ...          ...  \n",
              "141                          33                  7367            9  \n",
              "142                          60                 24116           15  \n",
              "143                         123                 24345           19  \n",
              "144                          19                  1955           19  \n",
              "145                          19                  5289           24  \n",
              "\n",
              "[146 rows x 9 columns]"
            ]
          },
          "execution_count": 53,
          "metadata": {},
          "output_type": "execute_result"
        }
      ],
      "source": [
        "ass"
      ]
    },
    {
      "cell_type": "code",
      "execution_count": 54,
      "metadata": {
        "colab": {
          "base_uri": "https://localhost:8080/",
          "height": 495
        },
        "id": "a8PdlfykEBOv",
        "outputId": "531745bf-9758-4c02-d7a5-f7ff4ed85b97"
      },
      "outputs": [
        {
          "data": {
            "text/plain": [
              "Text(0, 0.5, 'Metacritic User')"
            ]
          },
          "execution_count": 54,
          "metadata": {},
          "output_type": "execute_result"
        },
        {
          "data": {
            "image/png": "[encoded data removed]",
            "text/plain": [
              "<Figure size 1600x500 with 1 Axes>"
            ]
          },
          "metadata": {},
          "output_type": "display_data"
        }
      ],
      "source": [
        " \n",
        "plt.figure(figsize=(16,5))\n",
        "sns.scatterplot(ass,x=ass[\"Metacritic\"]/10,y=ass[\"Metacritic_User\"],s=70)\n",
        "# sns.scatterplot(ass,x=ass[\"Metacritic\"],y=ass[\"Metacritic_User\"],s=70)\n",
        "# plt.xticks(ticks=range(0, int(ass['Metacritic'].max()) + 20, 20),fontsize=12)\n",
        "plt.yticks(ticks=range(0, int(ass['Metacritic_User'].max()) + 2, 2),fontsize=12)\n",
        "plt.xlabel('Metacritic', fontsize=14)  # Adjust the font size as needed\n",
        "plt.ylabel('Metacritic User', fontsize=14)  # A"
      ]
    },
    {
      "cell_type": "code",
      "execution_count": null,
      "metadata": {
        "id": "WzdI1i53EBOw"
      },
      "outputs": [],
      "source": []
    },
    {
      "cell_type": "markdown",
      "metadata": {
        "id": "uisXX_38EBOy"
      },
      "source": [
        "## IMDB\n",
        "\n",
        "Finally let's explore IMDB. Notice that both Metacritic and IMDB report back vote counts. Let's analyze the most popular movies.\n",
        "\n",
        "**  : Create a scatterplot for the relationship between vote counts on MetaCritic versus vote counts on IMDB.**"
      ]
    },
    {
      "cell_type": "code",
      "execution_count": 55,
      "metadata": {
        "colab": {
          "base_uri": "https://localhost:8080/",
          "height": 501
        },
        "id": "CNTcQsBIEBOz",
        "outputId": "02a4f58f-e97a-4f49-e440-61f998077044"
      },
      "outputs": [
        {
          "data": {
            "text/plain": [
              "<Axes: xlabel='Metacritic_user_vote_count', ylabel='IMDB_user_vote_count'>"
            ]
          },
          "execution_count": 55,
          "metadata": {},
          "output_type": "execute_result"
        },
        {
          "data": {
            "image/png": "[encoded data removed]",
            "text/plain": [
              "<Figure size 1500x500 with 1 Axes>"
            ]
          },
          "metadata": {},
          "output_type": "display_data"
        }
      ],
      "source": [
        "#CODE HERE\n",
        "plt.figure(figsize=(15,5))\n",
        "plt.xticks(fontsize=14)\n",
        "plt.yticks(fontsize=14)\n",
        "plt.xlabel(\"Metacritic_user_vote_count\",fontsize=15)\n",
        "plt.ylabel(\"IMDB_user_vote_count\",fontsize=15)\n",
        "sns.scatterplot(ass,y=ass[\"IMDB_user_vote_count\"],x=ass[\"Metacritic_user_vote_count\"],s=70)"
      ]
    },
    {
      "cell_type": "code",
      "execution_count": null,
      "metadata": {
        "id": "T64YS1gkEBO0"
      },
      "outputs": [],
      "source": []
    },
    {
      "cell_type": "markdown",
      "metadata": {
        "id": "wWZnmk35EBO0"
      },
      "source": [
        "**Notice there are two outliers here. The movie with the highest vote count on IMDB only has about 500 Metacritic ratings. What is this movie?**\n",
        "\n",
        "**  : What movie has the highest IMDB user vote count?**"
      ]
    },
    {
      "cell_type": "code",
      "execution_count": 56,
      "metadata": {
        "colab": {
          "base_uri": "https://localhost:8080/",
          "height": 81
        },
        "id": "B_Bgz9jTEBO0",
        "outputId": "39d112ed-e85c-4dca-b003-c7144f1d2633"
      },
      "outputs": [
        {
          "data": {
            "text/html": [
              "<div>\n",
              "<style scoped>\n",
              "    .dataframe tbody tr th:only-of-type {\n",
              "        vertical-align: middle;\n",
              "    }\n",
              "\n",
              "    .dataframe tbody tr th {\n",
              "        vertical-align: top;\n",
              "    }\n",
              "\n",
              "    .dataframe thead th {\n",
              "        text-align: right;\n",
              "    }\n",
              "</style>\n",
              "<table border=\"1\" class=\"dataframe\">\n",
              "  <thead>\n",
              "    <tr style=\"text-align: right;\">\n",
              "      <th></th>\n",
              "      <th>FILM</th>\n",
              "      <th>RottenTomatoes</th>\n",
              "      <th>RottenTomatoes_User</th>\n",
              "      <th>Metacritic</th>\n",
              "      <th>Metacritic_User</th>\n",
              "      <th>IMDB</th>\n",
              "      <th>Metacritic_user_vote_count</th>\n",
              "      <th>IMDB_user_vote_count</th>\n",
              "      <th>Rotten_Diff</th>\n",
              "    </tr>\n",
              "  </thead>\n",
              "  <tbody>\n",
              "    <tr>\n",
              "      <th>14</th>\n",
              "      <td>The Imitation Game (2014)</td>\n",
              "      <td>90</td>\n",
              "      <td>92</td>\n",
              "      <td>73</td>\n",
              "      <td>8.2</td>\n",
              "      <td>8.1</td>\n",
              "      <td>566</td>\n",
              "      <td>334164</td>\n",
              "      <td>-2</td>\n",
              "    </tr>\n",
              "  </tbody>\n",
              "</table>\n",
              "</div>"
            ],
            "text/plain": [
              "                         FILM  RottenTomatoes  RottenTomatoes_User  \\\n",
              "14  The Imitation Game (2014)              90                   92   \n",
              "\n",
              "    Metacritic  Metacritic_User  IMDB  Metacritic_user_vote_count  \\\n",
              "14          73              8.2   8.1                         566   \n",
              "\n",
              "    IMDB_user_vote_count  Rotten_Diff  \n",
              "14                334164           -2  "
            ]
          },
          "execution_count": 56,
          "metadata": {},
          "output_type": "execute_result"
        }
      ],
      "source": [
        "#CODE HERE\n",
        "ass.loc[ass[\"IMDB_user_vote_count\"]==max(ass[\"IMDB_user_vote_count\"])]"
      ]
    },
    {
      "cell_type": "code",
      "execution_count": null,
      "metadata": {
        "id": "MqeewwD6EBO1"
      },
      "outputs": [],
      "source": []
    },
    {
      "cell_type": "markdown",
      "metadata": {
        "id": "qQxtpWhYEBO1"
      },
      "source": [
        "**  : What movie has the highest Metacritic User Vote count?**"
      ]
    },
    {
      "cell_type": "code",
      "execution_count": 57,
      "metadata": {
        "colab": {
          "base_uri": "https://localhost:8080/",
          "height": 81
        },
        "id": "E2L-1V-DEBO1",
        "outputId": "dfa1fd4f-17f3-4c20-caac-1800a20a9615"
      },
      "outputs": [
        {
          "data": {
            "text/html": [
              "<div>\n",
              "<style scoped>\n",
              "    .dataframe tbody tr th:only-of-type {\n",
              "        vertical-align: middle;\n",
              "    }\n",
              "\n",
              "    .dataframe tbody tr th {\n",
              "        vertical-align: top;\n",
              "    }\n",
              "\n",
              "    .dataframe thead th {\n",
              "        text-align: right;\n",
              "    }\n",
              "</style>\n",
              "<table border=\"1\" class=\"dataframe\">\n",
              "  <thead>\n",
              "    <tr style=\"text-align: right;\">\n",
              "      <th></th>\n",
              "      <th>FILM</th>\n",
              "      <th>RottenTomatoes</th>\n",
              "      <th>RottenTomatoes_User</th>\n",
              "      <th>Metacritic</th>\n",
              "      <th>Metacritic_User</th>\n",
              "      <th>IMDB</th>\n",
              "      <th>Metacritic_user_vote_count</th>\n",
              "      <th>IMDB_user_vote_count</th>\n",
              "      <th>Rotten_Diff</th>\n",
              "    </tr>\n",
              "  </thead>\n",
              "  <tbody>\n",
              "    <tr>\n",
              "      <th>88</th>\n",
              "      <td>Mad Max: Fury Road (2015)</td>\n",
              "      <td>97</td>\n",
              "      <td>88</td>\n",
              "      <td>89</td>\n",
              "      <td>8.7</td>\n",
              "      <td>8.3</td>\n",
              "      <td>2375</td>\n",
              "      <td>292023</td>\n",
              "      <td>9</td>\n",
              "    </tr>\n",
              "  </tbody>\n",
              "</table>\n",
              "</div>"
            ],
            "text/plain": [
              "                         FILM  RottenTomatoes  RottenTomatoes_User  \\\n",
              "88  Mad Max: Fury Road (2015)              97                   88   \n",
              "\n",
              "    Metacritic  Metacritic_User  IMDB  Metacritic_user_vote_count  \\\n",
              "88          89              8.7   8.3                        2375   \n",
              "\n",
              "    IMDB_user_vote_count  Rotten_Diff  \n",
              "88                292023            9  "
            ]
          },
          "execution_count": 57,
          "metadata": {},
          "output_type": "execute_result"
        }
      ],
      "source": [
        "#CODE HERE\n",
        "ass.loc[ass[\"Metacritic_user_vote_count\"]==max(ass[\"Metacritic_user_vote_count\"])]\n"
      ]
    },
    {
      "cell_type": "code",
      "execution_count": null,
      "metadata": {
        "id": "gM2bphLoEBO1"
      },
      "outputs": [],
      "source": []
    },
    {
      "cell_type": "markdown",
      "metadata": {
        "id": "HXi82nvzEBO2"
      },
      "source": [
        "## Fandago Scores vs. All Sites\n",
        "\n",
        "Finally let's begin to explore whether or not Fandango artificially displays higher ratings than warranted to boost ticket sales."
      ]
    },
    {
      "cell_type": "markdown",
      "metadata": {
        "id": "HBElsw7rEBO2"
      },
      "source": [
        "**  : Combine the Fandango Table with the All Sites table. Not every movie in the Fandango table is in the All Sites table, since some Fandango movies have very little or no reviews. We only want to compare movies that are in both DataFrames, so do an *inner* merge to merge together both DataFrames based on the FILM columns.**"
      ]
    },
    {
      "cell_type": "code",
      "execution_count": 58,
      "metadata": {
        "colab": {
          "base_uri": "https://localhost:8080/"
        },
        "id": "t5piifzyEBO3",
        "outputId": "78a86845-8dac-4248-a08f-c695fc8b71ea"
      },
      "outputs": [
        {
          "name": "stdout",
          "output_type": "stream",
          "text": [
            "<class 'pandas.core.frame.DataFrame'>\n",
            "RangeIndex: 145 entries, 0 to 144\n",
            "Data columns (total 14 columns):\n",
            " #   Column                      Non-Null Count  Dtype  \n",
            "---  ------                      --------------  -----  \n",
            " 0   FILM                        145 non-null    object \n",
            " 1   STARS                       145 non-null    float64\n",
            " 2   RATING                      145 non-null    float64\n",
            " 3   VOTES                       145 non-null    int64  \n",
            " 4   year                        145 non-null    int64  \n",
            " 5   STARS_DIFF                  145 non-null    float64\n",
            " 6   RottenTomatoes              145 non-null    int64  \n",
            " 7   RottenTomatoes_User         145 non-null    int64  \n",
            " 8   Metacritic                  145 non-null    int64  \n",
            " 9   Metacritic_User             145 non-null    float64\n",
            " 10  IMDB                        145 non-null    float64\n",
            " 11  Metacritic_user_vote_count  145 non-null    int64  \n",
            " 12  IMDB_user_vote_count        145 non-null    int64  \n",
            " 13  Rotten_Diff                 145 non-null    int64  \n",
            "dtypes: float64(5), int64(8), object(1)\n",
            "memory usage: 16.0+ KB\n"
          ]
        }
      ],
      "source": [
        "#CODE HERE\n",
        "mix=fd.merge(ass,on=\"FILM\")\n",
        "mix.info()"
      ]
    },
    {
      "cell_type": "code",
      "execution_count": null,
      "metadata": {
        "id": "ZICi0c8PEBO3"
      },
      "outputs": [],
      "source": []
    },
    {
      "cell_type": "code",
      "execution_count": null,
      "metadata": {
        "id": "cW4oi2ZCEBO3"
      },
      "outputs": [],
      "source": []
    },
    {
      "cell_type": "code",
      "execution_count": null,
      "metadata": {
        "id": "2Djq_d03EBO4"
      },
      "outputs": [],
      "source": []
    },
    {
      "cell_type": "markdown",
      "metadata": {
        "id": "8cByV4K_EBO4"
      },
      "source": [
        "### Normalize columns to Fandango STARS and RATINGS 0-5\n",
        "\n",
        "Notice that RT,Metacritic, and IMDB don't use a score between 0-5 stars like Fandango does. In order to do a fair comparison, we need to *normalize* these values so they all fall between 0-5 stars and the relationship between reviews stays the same.\n",
        "\n",
        "**  : Create new normalized columns for all ratings so they match up within the 0-5 star range shown on Fandango. There are many ways to do this.**\n",
        "\n",
        "Hint link: https://stackoverflow.com/questions/26414913/normalize-columns-of-pandas-data-frame\n",
        "\n",
        "\n",
        "Easier Hint:\n",
        "\n",
        "Keep in mind, a simple way to convert ratings:\n",
        "* 100/20 = 5\n",
        "* 10/2 = 5"
      ]
    },
    {
      "cell_type": "code",
      "execution_count": 59,
      "metadata": {
        "colab": {
          "base_uri": "https://localhost:8080/",
          "height": 423
        },
        "id": "Nlc9nogwEBO5",
        "outputId": "451ae786-96cc-44fe-b8d8-7104d86f235c"
      },
      "outputs": [
        {
          "data": {
            "text/html": [
              "<div>\n",
              "<style scoped>\n",
              "    .dataframe tbody tr th:only-of-type {\n",
              "        vertical-align: middle;\n",
              "    }\n",
              "\n",
              "    .dataframe tbody tr th {\n",
              "        vertical-align: top;\n",
              "    }\n",
              "\n",
              "    .dataframe thead th {\n",
              "        text-align: right;\n",
              "    }\n",
              "</style>\n",
              "<table border=\"1\" class=\"dataframe\">\n",
              "  <thead>\n",
              "    <tr style=\"text-align: right;\">\n",
              "      <th></th>\n",
              "      <th>FILM</th>\n",
              "      <th>STARS</th>\n",
              "      <th>RATING</th>\n",
              "      <th>VOTES</th>\n",
              "      <th>year</th>\n",
              "      <th>STARS_DIFF</th>\n",
              "      <th>RottenTomatoes</th>\n",
              "      <th>RottenTomatoes_User</th>\n",
              "      <th>Metacritic</th>\n",
              "      <th>Metacritic_User</th>\n",
              "      <th>IMDB</th>\n",
              "      <th>Metacritic_user_vote_count</th>\n",
              "      <th>IMDB_user_vote_count</th>\n",
              "      <th>Rotten_Diff</th>\n",
              "    </tr>\n",
              "  </thead>\n",
              "  <tbody>\n",
              "    <tr>\n",
              "      <th>0</th>\n",
              "      <td>Fifty Shades of Grey (2015)</td>\n",
              "      <td>4.0</td>\n",
              "      <td>3.9</td>\n",
              "      <td>34846</td>\n",
              "      <td>2015</td>\n",
              "      <td>0.1</td>\n",
              "      <td>25</td>\n",
              "      <td>42</td>\n",
              "      <td>46</td>\n",
              "      <td>3.2</td>\n",
              "      <td>4.2</td>\n",
              "      <td>778</td>\n",
              "      <td>179506</td>\n",
              "      <td>-17</td>\n",
              "    </tr>\n",
              "    <tr>\n",
              "      <th>1</th>\n",
              "      <td>Jurassic World (2015)</td>\n",
              "      <td>4.5</td>\n",
              "      <td>4.5</td>\n",
              "      <td>34390</td>\n",
              "      <td>2015</td>\n",
              "      <td>0.0</td>\n",
              "      <td>71</td>\n",
              "      <td>81</td>\n",
              "      <td>59</td>\n",
              "      <td>7.0</td>\n",
              "      <td>7.3</td>\n",
              "      <td>1281</td>\n",
              "      <td>241807</td>\n",
              "      <td>-10</td>\n",
              "    </tr>\n",
              "    <tr>\n",
              "      <th>2</th>\n",
              "      <td>American Sniper (2015)</td>\n",
              "      <td>5.0</td>\n",
              "      <td>4.8</td>\n",
              "      <td>34085</td>\n",
              "      <td>2015</td>\n",
              "      <td>0.2</td>\n",
              "      <td>72</td>\n",
              "      <td>85</td>\n",
              "      <td>72</td>\n",
              "      <td>6.6</td>\n",
              "      <td>7.4</td>\n",
              "      <td>850</td>\n",
              "      <td>251856</td>\n",
              "      <td>-13</td>\n",
              "    </tr>\n",
              "    <tr>\n",
              "      <th>3</th>\n",
              "      <td>Furious 7 (2015)</td>\n",
              "      <td>5.0</td>\n",
              "      <td>4.8</td>\n",
              "      <td>33538</td>\n",
              "      <td>2015</td>\n",
              "      <td>0.2</td>\n",
              "      <td>81</td>\n",
              "      <td>84</td>\n",
              "      <td>67</td>\n",
              "      <td>6.8</td>\n",
              "      <td>7.4</td>\n",
              "      <td>764</td>\n",
              "      <td>207211</td>\n",
              "      <td>-3</td>\n",
              "    </tr>\n",
              "    <tr>\n",
              "      <th>4</th>\n",
              "      <td>Inside Out (2015)</td>\n",
              "      <td>4.5</td>\n",
              "      <td>4.5</td>\n",
              "      <td>15749</td>\n",
              "      <td>2015</td>\n",
              "      <td>0.0</td>\n",
              "      <td>98</td>\n",
              "      <td>90</td>\n",
              "      <td>94</td>\n",
              "      <td>8.9</td>\n",
              "      <td>8.6</td>\n",
              "      <td>807</td>\n",
              "      <td>96252</td>\n",
              "      <td>8</td>\n",
              "    </tr>\n",
              "    <tr>\n",
              "      <th>...</th>\n",
              "      <td>...</td>\n",
              "      <td>...</td>\n",
              "      <td>...</td>\n",
              "      <td>...</td>\n",
              "      <td>...</td>\n",
              "      <td>...</td>\n",
              "      <td>...</td>\n",
              "      <td>...</td>\n",
              "      <td>...</td>\n",
              "      <td>...</td>\n",
              "      <td>...</td>\n",
              "      <td>...</td>\n",
              "      <td>...</td>\n",
              "      <td>...</td>\n",
              "    </tr>\n",
              "    <tr>\n",
              "      <th>140</th>\n",
              "      <td>Kumiko, The Treasure Hunter (2015)</td>\n",
              "      <td>3.5</td>\n",
              "      <td>3.5</td>\n",
              "      <td>41</td>\n",
              "      <td>2015</td>\n",
              "      <td>0.0</td>\n",
              "      <td>87</td>\n",
              "      <td>63</td>\n",
              "      <td>68</td>\n",
              "      <td>6.4</td>\n",
              "      <td>6.7</td>\n",
              "      <td>19</td>\n",
              "      <td>5289</td>\n",
              "      <td>24</td>\n",
              "    </tr>\n",
              "    <tr>\n",
              "      <th>141</th>\n",
              "      <td>The Diary of a Teenage Girl (2015)</td>\n",
              "      <td>4.0</td>\n",
              "      <td>3.6</td>\n",
              "      <td>38</td>\n",
              "      <td>2015</td>\n",
              "      <td>0.4</td>\n",
              "      <td>95</td>\n",
              "      <td>81</td>\n",
              "      <td>87</td>\n",
              "      <td>6.3</td>\n",
              "      <td>7.0</td>\n",
              "      <td>18</td>\n",
              "      <td>1107</td>\n",
              "      <td>14</td>\n",
              "    </tr>\n",
              "    <tr>\n",
              "      <th>142</th>\n",
              "      <td>The Wrecking Crew (2015)</td>\n",
              "      <td>4.5</td>\n",
              "      <td>4.2</td>\n",
              "      <td>38</td>\n",
              "      <td>2015</td>\n",
              "      <td>0.3</td>\n",
              "      <td>93</td>\n",
              "      <td>84</td>\n",
              "      <td>67</td>\n",
              "      <td>7.0</td>\n",
              "      <td>7.8</td>\n",
              "      <td>4</td>\n",
              "      <td>732</td>\n",
              "      <td>9</td>\n",
              "    </tr>\n",
              "    <tr>\n",
              "      <th>143</th>\n",
              "      <td>Tangerine (2015)</td>\n",
              "      <td>4.0</td>\n",
              "      <td>3.9</td>\n",
              "      <td>36</td>\n",
              "      <td>2015</td>\n",
              "      <td>0.1</td>\n",
              "      <td>95</td>\n",
              "      <td>86</td>\n",
              "      <td>86</td>\n",
              "      <td>7.3</td>\n",
              "      <td>7.4</td>\n",
              "      <td>14</td>\n",
              "      <td>696</td>\n",
              "      <td>9</td>\n",
              "    </tr>\n",
              "    <tr>\n",
              "      <th>144</th>\n",
              "      <td>Maps to the Stars (2015)</td>\n",
              "      <td>3.5</td>\n",
              "      <td>3.1</td>\n",
              "      <td>35</td>\n",
              "      <td>2015</td>\n",
              "      <td>0.4</td>\n",
              "      <td>60</td>\n",
              "      <td>46</td>\n",
              "      <td>67</td>\n",
              "      <td>5.8</td>\n",
              "      <td>6.3</td>\n",
              "      <td>46</td>\n",
              "      <td>22440</td>\n",
              "      <td>14</td>\n",
              "    </tr>\n",
              "  </tbody>\n",
              "</table>\n",
              "<p>145 rows × 14 columns</p>\n",
              "</div>"
            ],
            "text/plain": [
              "                                   FILM  STARS  RATING  VOTES  year  \\\n",
              "0           Fifty Shades of Grey (2015)    4.0     3.9  34846  2015   \n",
              "1                 Jurassic World (2015)    4.5     4.5  34390  2015   \n",
              "2                American Sniper (2015)    5.0     4.8  34085  2015   \n",
              "3                      Furious 7 (2015)    5.0     4.8  33538  2015   \n",
              "4                     Inside Out (2015)    4.5     4.5  15749  2015   \n",
              "..                                  ...    ...     ...    ...   ...   \n",
              "140  Kumiko, The Treasure Hunter (2015)    3.5     3.5     41  2015   \n",
              "141  The Diary of a Teenage Girl (2015)    4.0     3.6     38  2015   \n",
              "142            The Wrecking Crew (2015)    4.5     4.2     38  2015   \n",
              "143                    Tangerine (2015)    4.0     3.9     36  2015   \n",
              "144            Maps to the Stars (2015)    3.5     3.1     35  2015   \n",
              "\n",
              "     STARS_DIFF  RottenTomatoes  RottenTomatoes_User  Metacritic  \\\n",
              "0           0.1              25                   42          46   \n",
              "1           0.0              71                   81          59   \n",
              "2           0.2              72                   85          72   \n",
              "3           0.2              81                   84          67   \n",
              "4           0.0              98                   90          94   \n",
              "..          ...             ...                  ...         ...   \n",
              "140         0.0              87                   63          68   \n",
              "141         0.4              95                   81          87   \n",
              "142         0.3              93                   84          67   \n",
              "143         0.1              95                   86          86   \n",
              "144         0.4              60                   46          67   \n",
              "\n",
              "     Metacritic_User  IMDB  Metacritic_user_vote_count  IMDB_user_vote_count  \\\n",
              "0                3.2   4.2                         778                179506   \n",
              "1                7.0   7.3                        1281                241807   \n",
              "2                6.6   7.4                         850                251856   \n",
              "3                6.8   7.4                         764                207211   \n",
              "4                8.9   8.6                         807                 96252   \n",
              "..               ...   ...                         ...                   ...   \n",
              "140              6.4   6.7                          19                  5289   \n",
              "141              6.3   7.0                          18                  1107   \n",
              "142              7.0   7.8                           4                   732   \n",
              "143              7.3   7.4                          14                   696   \n",
              "144              5.8   6.3                          46                 22440   \n",
              "\n",
              "     Rotten_Diff  \n",
              "0            -17  \n",
              "1            -10  \n",
              "2            -13  \n",
              "3             -3  \n",
              "4              8  \n",
              "..           ...  \n",
              "140           24  \n",
              "141           14  \n",
              "142            9  \n",
              "143            9  \n",
              "144           14  \n",
              "\n",
              "[145 rows x 14 columns]"
            ]
          },
          "execution_count": 59,
          "metadata": {},
          "output_type": "execute_result"
        }
      ],
      "source": [
        " \n",
        "mix"
      ]
    },
    {
      "cell_type": "code",
      "execution_count": 60,
      "metadata": {
        "colab": {
          "base_uri": "https://localhost:8080/",
          "height": 153
        },
        "id": "sntQzMsUEBO5",
        "outputId": "88b5239c-3ec3-458b-8b96-564451d5e496"
      },
      "outputs": [
        {
          "data": {
            "text/html": [
              "<div>\n",
              "<style scoped>\n",
              "    .dataframe tbody tr th:only-of-type {\n",
              "        vertical-align: middle;\n",
              "    }\n",
              "\n",
              "    .dataframe tbody tr th {\n",
              "        vertical-align: top;\n",
              "    }\n",
              "\n",
              "    .dataframe thead th {\n",
              "        text-align: right;\n",
              "    }\n",
              "</style>\n",
              "<table border=\"1\" class=\"dataframe\">\n",
              "  <thead>\n",
              "    <tr style=\"text-align: right;\">\n",
              "      <th></th>\n",
              "      <th>FILM</th>\n",
              "      <th>STARS</th>\n",
              "      <th>RATING</th>\n",
              "      <th>VOTES</th>\n",
              "      <th>year</th>\n",
              "      <th>STARS_DIFF</th>\n",
              "      <th>RottenTomatoes</th>\n",
              "      <th>RottenTomatoes_User</th>\n",
              "      <th>Metacritic</th>\n",
              "      <th>Metacritic_User</th>\n",
              "      <th>IMDB</th>\n",
              "      <th>Metacritic_user_vote_count</th>\n",
              "      <th>IMDB_user_vote_count</th>\n",
              "      <th>Rotten_Diff</th>\n",
              "    </tr>\n",
              "  </thead>\n",
              "  <tbody>\n",
              "    <tr>\n",
              "      <th>0</th>\n",
              "      <td>Fifty Shades of Grey (2015)</td>\n",
              "      <td>4.0</td>\n",
              "      <td>3.9</td>\n",
              "      <td>34846</td>\n",
              "      <td>2015</td>\n",
              "      <td>0.1</td>\n",
              "      <td>25</td>\n",
              "      <td>42</td>\n",
              "      <td>46</td>\n",
              "      <td>3.2</td>\n",
              "      <td>4.2</td>\n",
              "      <td>778</td>\n",
              "      <td>179506</td>\n",
              "      <td>-17</td>\n",
              "    </tr>\n",
              "  </tbody>\n",
              "</table>\n",
              "</div>"
            ],
            "text/plain": [
              "                          FILM  STARS  RATING  VOTES  year  STARS_DIFF  \\\n",
              "0  Fifty Shades of Grey (2015)    4.0     3.9  34846  2015         0.1   \n",
              "\n",
              "   RottenTomatoes  RottenTomatoes_User  Metacritic  Metacritic_User  IMDB  \\\n",
              "0              25                   42          46              3.2   4.2   \n",
              "\n",
              "   Metacritic_user_vote_count  IMDB_user_vote_count  Rotten_Diff  \n",
              "0                         778                179506          -17  "
            ]
          },
          "execution_count": 60,
          "metadata": {},
          "output_type": "execute_result"
        }
      ],
      "source": [
        "mix.head(1)\n"
      ]
    },
    {
      "cell_type": "code",
      "execution_count": 61,
      "metadata": {
        "id": "LP5_zc2LEBO5"
      },
      "outputs": [],
      "source": [
        "# mix[\"RT_Norm\"]=mix[\"RottenTomatoes\"]/20\n",
        "# mix[\"RTU_Norm\"]=mix[\"RottenTomatoes_User\"]/20\n",
        "# mix[\"Meta_Norm\"]=mix[\"Metacritic\"]/20\n",
        "# mix[\"Meta_U_Norm\"]=mix[\"Metacritic_User\"]/2\n",
        "# mix[\"IMDB_Norm\"]=mix[\"IMDB\"]/2\n",
        "mix[\"RT_Norm\"] = round(mix[\"RottenTomatoes\"] / 20, 1)\n",
        "mix[\"RTU_Norm\"] = round(mix[\"RottenTomatoes_User\"] / 20, 1)\n",
        "mix[\"Meta_Norm\"] = round(mix[\"Metacritic\"] / 20, 1)\n",
        "mix[\"Meta_U_Norm\"] = round(mix[\"Metacritic_User\"] / 2, 1)\n",
        "mix[\"IMDB_Norm\"] = round(mix[\"IMDB\"] / 2, 1)\n",
        "\n"
      ]
    },
    {
      "cell_type": "code",
      "execution_count": 62,
      "metadata": {
        "id": "j90A-vpuEBO6"
      },
      "outputs": [],
      "source": [
        "mix.head()\n",
        "# ns=mix[[FILM\tSTARS\tRATING\tRT_Norm\tRTU_Norm\tMeta_Norm\tMeta_U_Norm\tIMDB_Norm]]\n",
        "ns = mix[['STARS', 'RATING', 'RT_Norm', 'RTU_Norm', 'Meta_Norm', 'Meta_U_Norm', 'IMDB_Norm']]\n",
        "film_ns = mix[[\"FILM\",'STARS', 'RATING', 'RT_Norm', 'RTU_Norm', 'Meta_Norm', 'Meta_U_Norm', 'IMDB_Norm']]\n",
        "\n"
      ]
    },
    {
      "cell_type": "code",
      "execution_count": null,
      "metadata": {
        "id": "TgozR0tvEBO6",
        "outputId": "ba2fa547-8784-4227-d67d-6c01e8c79e9b"
      },
      "outputs": [],
      "source": []
    },
    {
      "cell_type": "markdown",
      "metadata": {
        "id": "qeARQ0llEBO6"
      },
      "source": [
        "**  : Now create a norm_scores DataFrame that only contains the normalizes ratings. Include both STARS and RATING from the original Fandango table.**"
      ]
    },
    {
      "cell_type": "code",
      "execution_count": 63,
      "metadata": {
        "id": "eOePehe5EBO7"
      },
      "outputs": [],
      "source": [
        "#CODE HERE"
      ]
    },
    {
      "cell_type": "code",
      "execution_count": 64,
      "metadata": {
        "colab": {
          "base_uri": "https://localhost:8080/",
          "height": 206
        },
        "id": "kBTOUaDOEBO7",
        "outputId": "18b7e704-4c75-4dc3-864a-194e6faeafcc"
      },
      "outputs": [
        {
          "data": {
            "text/html": [
              "<div>\n",
              "<style scoped>\n",
              "    .dataframe tbody tr th:only-of-type {\n",
              "        vertical-align: middle;\n",
              "    }\n",
              "\n",
              "    .dataframe tbody tr th {\n",
              "        vertical-align: top;\n",
              "    }\n",
              "\n",
              "    .dataframe thead th {\n",
              "        text-align: right;\n",
              "    }\n",
              "</style>\n",
              "<table border=\"1\" class=\"dataframe\">\n",
              "  <thead>\n",
              "    <tr style=\"text-align: right;\">\n",
              "      <th></th>\n",
              "      <th>STARS</th>\n",
              "      <th>RATING</th>\n",
              "      <th>RT_Norm</th>\n",
              "      <th>RTU_Norm</th>\n",
              "      <th>Meta_Norm</th>\n",
              "      <th>Meta_U_Norm</th>\n",
              "      <th>IMDB_Norm</th>\n",
              "    </tr>\n",
              "  </thead>\n",
              "  <tbody>\n",
              "    <tr>\n",
              "      <th>0</th>\n",
              "      <td>4.0</td>\n",
              "      <td>3.9</td>\n",
              "      <td>1.2</td>\n",
              "      <td>2.1</td>\n",
              "      <td>2.3</td>\n",
              "      <td>1.6</td>\n",
              "      <td>2.1</td>\n",
              "    </tr>\n",
              "    <tr>\n",
              "      <th>1</th>\n",
              "      <td>4.5</td>\n",
              "      <td>4.5</td>\n",
              "      <td>3.6</td>\n",
              "      <td>4.0</td>\n",
              "      <td>3.0</td>\n",
              "      <td>3.5</td>\n",
              "      <td>3.6</td>\n",
              "    </tr>\n",
              "    <tr>\n",
              "      <th>2</th>\n",
              "      <td>5.0</td>\n",
              "      <td>4.8</td>\n",
              "      <td>3.6</td>\n",
              "      <td>4.2</td>\n",
              "      <td>3.6</td>\n",
              "      <td>3.3</td>\n",
              "      <td>3.7</td>\n",
              "    </tr>\n",
              "    <tr>\n",
              "      <th>3</th>\n",
              "      <td>5.0</td>\n",
              "      <td>4.8</td>\n",
              "      <td>4.0</td>\n",
              "      <td>4.2</td>\n",
              "      <td>3.4</td>\n",
              "      <td>3.4</td>\n",
              "      <td>3.7</td>\n",
              "    </tr>\n",
              "    <tr>\n",
              "      <th>4</th>\n",
              "      <td>4.5</td>\n",
              "      <td>4.5</td>\n",
              "      <td>4.9</td>\n",
              "      <td>4.5</td>\n",
              "      <td>4.7</td>\n",
              "      <td>4.4</td>\n",
              "      <td>4.3</td>\n",
              "    </tr>\n",
              "  </tbody>\n",
              "</table>\n",
              "</div>"
            ],
            "text/plain": [
              "   STARS  RATING  RT_Norm  RTU_Norm  Meta_Norm  Meta_U_Norm  IMDB_Norm\n",
              "0    4.0     3.9      1.2       2.1        2.3          1.6        2.1\n",
              "1    4.5     4.5      3.6       4.0        3.0          3.5        3.6\n",
              "2    5.0     4.8      3.6       4.2        3.6          3.3        3.7\n",
              "3    5.0     4.8      4.0       4.2        3.4          3.4        3.7\n",
              "4    4.5     4.5      4.9       4.5        4.7          4.4        4.3"
            ]
          },
          "execution_count": 64,
          "metadata": {},
          "output_type": "execute_result"
        }
      ],
      "source": [
        "ns.head()"
      ]
    },
    {
      "cell_type": "code",
      "execution_count": null,
      "metadata": {
        "id": "_cLil8bMEBO7",
        "outputId": "a12fd07e-1f5c-40fd-fb3c-a1205e2a8619"
      },
      "outputs": [],
      "source": []
    },
    {
      "cell_type": "markdown",
      "metadata": {
        "id": "lC9Z5x_nEBO8"
      },
      "source": [
        "### Comparing Distribution of Scores Across Sites\n",
        "\n",
        "\n",
        "Now the moment of truth! Does Fandango display abnormally high ratings? We already know it pushs displayed RATING higher than STARS, but are the ratings themselves higher than average?\n",
        "\n",
        "\n",
        "**  : Create a plot comparing the distributions of normalized ratings across all sites. There are many ways to do this, but explore the Seaborn KDEplot docs for some simple ways to quickly show this. Don't worry if your plot format does not look exactly the same as ours, as long as the differences in distribution are clear.**\n",
        "\n",
        "Quick Note if you have issues moving the legend for a seaborn kdeplot: https://github.com/mwaskom/seaborn/issues/2280"
      ]
    },
    {
      "cell_type": "code",
      "execution_count": 65,
      "metadata": {
        "id": "uVAIepWbEBO8"
      },
      "outputs": [],
      "source": [
        "#CODE HERE"
      ]
    },
    {
      "cell_type": "code",
      "execution_count": 66,
      "metadata": {
        "colab": {
          "base_uri": "https://localhost:8080/",
          "height": 463
        },
        "id": "NvX7ZWMxEBO8",
        "outputId": "9b74a6d5-514d-4b86-d37d-fb68650b9499"
      },
      "outputs": [
        {
          "data": {
            "text/plain": [
              "(-1.880589839141654, 5.0)"
            ]
          },
          "execution_count": 66,
          "metadata": {},
          "output_type": "execute_result"
        },
        {
          "data": {
            "image/png": "[encoded data removed]",
            "text/plain": [
              "<Figure size 1500x500 with 1 Axes>"
            ]
          },
          "metadata": {},
          "output_type": "display_data"
        }
      ],
      "source": [
        "plt.figure(figsize=(15,5))\n",
        "sns.kdeplot(ns,fill=True)\n",
        "plt.legend(['STARS', 'RATING', 'RT_Norm', 'RTU_Norm', 'Meta_Norm', 'Meta_U_Norm', 'IMDB_Norm'], loc='upper left')\n",
        "plt.xlim(right=5)\n"
      ]
    },
    {
      "cell_type": "code",
      "execution_count": null,
      "metadata": {
        "id": "1Y4v-SYDEBO9",
        "outputId": "cf0a8ba2-7e13-496d-e620-258ad0b79770"
      },
      "outputs": [],
      "source": []
    },
    {
      "cell_type": "markdown",
      "metadata": {
        "id": "xPjlUx47EBO9"
      },
      "source": [
        "**Clearly Fandango has an uneven distribution. We can also see that RT critics have the most uniform distribution. Let's directly compare these two.**\n",
        "\n",
        "**  : Create a KDE plot that compare the distribution of RT critic ratings against the STARS displayed by Fandango.**"
      ]
    },
    {
      "cell_type": "code",
      "execution_count": 67,
      "metadata": {
        "colab": {
          "base_uri": "https://localhost:8080/",
          "height": 463
        },
        "id": "x_HBgerjEBO9",
        "outputId": "3656e360-e8c4-4c70-851b-43f3c6ed0090"
      },
      "outputs": [
        {
          "data": {
            "text/plain": [
              "<Axes: ylabel='Density'>"
            ]
          },
          "execution_count": 67,
          "metadata": {},
          "output_type": "execute_result"
        },
        {
          "data": {
            "image/png": "[encoded data removed]",
            "text/plain": [
              "<Figure size 1500x500 with 1 Axes>"
            ]
          },
          "metadata": {},
          "output_type": "display_data"
        }
      ],
      "source": [
        "#CODE HERE\n",
        "plt.figure(figsize=(15,5))\n",
        "plt.xlim(right=5)\n",
        "\n",
        "sns.kdeplot(ns[[\"RT_Norm\",\"STARS\"]],fill=True)\n"
      ]
    },
    {
      "cell_type": "code",
      "execution_count": null,
      "metadata": {
        "id": "wULpTgUgEBO-",
        "outputId": "73e90816-31e0-4f7a-deaf-2cd2452bb99a"
      },
      "outputs": [],
      "source": []
    },
    {
      "cell_type": "markdown",
      "metadata": {
        "id": "GujJGFs9EBO-"
      },
      "source": [
        "**OPTIONAL   : Create a histplot comparing all normalized scores.**"
      ]
    },
    {
      "cell_type": "code",
      "execution_count": 68,
      "metadata": {
        "id": "hEvDg2tPEBO-"
      },
      "outputs": [],
      "source": [
        "#CODE HERE"
      ]
    },
    {
      "cell_type": "code",
      "execution_count": 69,
      "metadata": {
        "colab": {
          "base_uri": "https://localhost:8080/",
          "height": 463
        },
        "id": "Z7QakaA2EBO_",
        "outputId": "db613677-9471-4c70-e7ca-8c39a995417f"
      },
      "outputs": [
        {
          "data": {
            "text/plain": [
              "<Axes: ylabel='Count'>"
            ]
          },
          "execution_count": 69,
          "metadata": {},
          "output_type": "execute_result"
        },
        {
          "data": {
            "image/png": "[encoded data removed]",
            "text/plain": [
              "<Figure size 1500x500 with 1 Axes>"
            ]
          },
          "metadata": {},
          "output_type": "display_data"
        }
      ],
      "source": [
        "plt.figure(figsize=(15,5))\n",
        "sns.histplot(ns,binwidth=0.0909)"
      ]
    },
    {
      "cell_type": "markdown",
      "metadata": {
        "id": "oteDOCYJEBPC"
      },
      "source": [
        "\n",
        "### How are the worst movies rated across all platforms?\n",
        "\n",
        "**  : Create a clustermap visualization of all normalized scores. Note the differences in ratings, highly rated movies should be clustered together versus poorly rated movies. Note: This clustermap does not need to have the FILM titles as the index, feel free to drop it for the clustermap.**"
      ]
    },
    {
      "cell_type": "code",
      "execution_count": 70,
      "metadata": {
        "colab": {
          "base_uri": "https://localhost:8080/",
          "height": 423
        },
        "id": "I8jsoQkT3dsd",
        "outputId": "8be34ba3-ac99-42f5-d85d-9ea317746465"
      },
      "outputs": [
        {
          "data": {
            "text/html": [
              "<div>\n",
              "<style scoped>\n",
              "    .dataframe tbody tr th:only-of-type {\n",
              "        vertical-align: middle;\n",
              "    }\n",
              "\n",
              "    .dataframe tbody tr th {\n",
              "        vertical-align: top;\n",
              "    }\n",
              "\n",
              "    .dataframe thead th {\n",
              "        text-align: right;\n",
              "    }\n",
              "</style>\n",
              "<table border=\"1\" class=\"dataframe\">\n",
              "  <thead>\n",
              "    <tr style=\"text-align: right;\">\n",
              "      <th></th>\n",
              "      <th>STARS</th>\n",
              "      <th>RATING</th>\n",
              "      <th>RT_Norm</th>\n",
              "      <th>RTU_Norm</th>\n",
              "      <th>Meta_Norm</th>\n",
              "      <th>Meta_U_Norm</th>\n",
              "      <th>IMDB_Norm</th>\n",
              "    </tr>\n",
              "  </thead>\n",
              "  <tbody>\n",
              "    <tr>\n",
              "      <th>0</th>\n",
              "      <td>4.0</td>\n",
              "      <td>3.9</td>\n",
              "      <td>1.2</td>\n",
              "      <td>2.1</td>\n",
              "      <td>2.3</td>\n",
              "      <td>1.6</td>\n",
              "      <td>2.1</td>\n",
              "    </tr>\n",
              "    <tr>\n",
              "      <th>1</th>\n",
              "      <td>4.5</td>\n",
              "      <td>4.5</td>\n",
              "      <td>3.6</td>\n",
              "      <td>4.0</td>\n",
              "      <td>3.0</td>\n",
              "      <td>3.5</td>\n",
              "      <td>3.6</td>\n",
              "    </tr>\n",
              "    <tr>\n",
              "      <th>2</th>\n",
              "      <td>5.0</td>\n",
              "      <td>4.8</td>\n",
              "      <td>3.6</td>\n",
              "      <td>4.2</td>\n",
              "      <td>3.6</td>\n",
              "      <td>3.3</td>\n",
              "      <td>3.7</td>\n",
              "    </tr>\n",
              "    <tr>\n",
              "      <th>3</th>\n",
              "      <td>5.0</td>\n",
              "      <td>4.8</td>\n",
              "      <td>4.0</td>\n",
              "      <td>4.2</td>\n",
              "      <td>3.4</td>\n",
              "      <td>3.4</td>\n",
              "      <td>3.7</td>\n",
              "    </tr>\n",
              "    <tr>\n",
              "      <th>4</th>\n",
              "      <td>4.5</td>\n",
              "      <td>4.5</td>\n",
              "      <td>4.9</td>\n",
              "      <td>4.5</td>\n",
              "      <td>4.7</td>\n",
              "      <td>4.4</td>\n",
              "      <td>4.3</td>\n",
              "    </tr>\n",
              "    <tr>\n",
              "      <th>...</th>\n",
              "      <td>...</td>\n",
              "      <td>...</td>\n",
              "      <td>...</td>\n",
              "      <td>...</td>\n",
              "      <td>...</td>\n",
              "      <td>...</td>\n",
              "      <td>...</td>\n",
              "    </tr>\n",
              "    <tr>\n",
              "      <th>140</th>\n",
              "      <td>3.5</td>\n",
              "      <td>3.5</td>\n",
              "      <td>4.4</td>\n",
              "      <td>3.2</td>\n",
              "      <td>3.4</td>\n",
              "      <td>3.2</td>\n",
              "      <td>3.4</td>\n",
              "    </tr>\n",
              "    <tr>\n",
              "      <th>141</th>\n",
              "      <td>4.0</td>\n",
              "      <td>3.6</td>\n",
              "      <td>4.8</td>\n",
              "      <td>4.0</td>\n",
              "      <td>4.4</td>\n",
              "      <td>3.2</td>\n",
              "      <td>3.5</td>\n",
              "    </tr>\n",
              "    <tr>\n",
              "      <th>142</th>\n",
              "      <td>4.5</td>\n",
              "      <td>4.2</td>\n",
              "      <td>4.6</td>\n",
              "      <td>4.2</td>\n",
              "      <td>3.4</td>\n",
              "      <td>3.5</td>\n",
              "      <td>3.9</td>\n",
              "    </tr>\n",
              "    <tr>\n",
              "      <th>143</th>\n",
              "      <td>4.0</td>\n",
              "      <td>3.9</td>\n",
              "      <td>4.8</td>\n",
              "      <td>4.3</td>\n",
              "      <td>4.3</td>\n",
              "      <td>3.6</td>\n",
              "      <td>3.7</td>\n",
              "    </tr>\n",
              "    <tr>\n",
              "      <th>144</th>\n",
              "      <td>3.5</td>\n",
              "      <td>3.1</td>\n",
              "      <td>3.0</td>\n",
              "      <td>2.3</td>\n",
              "      <td>3.4</td>\n",
              "      <td>2.9</td>\n",
              "      <td>3.2</td>\n",
              "    </tr>\n",
              "  </tbody>\n",
              "</table>\n",
              "<p>145 rows × 7 columns</p>\n",
              "</div>"
            ],
            "text/plain": [
              "     STARS  RATING  RT_Norm  RTU_Norm  Meta_Norm  Meta_U_Norm  IMDB_Norm\n",
              "0      4.0     3.9      1.2       2.1        2.3          1.6        2.1\n",
              "1      4.5     4.5      3.6       4.0        3.0          3.5        3.6\n",
              "2      5.0     4.8      3.6       4.2        3.6          3.3        3.7\n",
              "3      5.0     4.8      4.0       4.2        3.4          3.4        3.7\n",
              "4      4.5     4.5      4.9       4.5        4.7          4.4        4.3\n",
              "..     ...     ...      ...       ...        ...          ...        ...\n",
              "140    3.5     3.5      4.4       3.2        3.4          3.2        3.4\n",
              "141    4.0     3.6      4.8       4.0        4.4          3.2        3.5\n",
              "142    4.5     4.2      4.6       4.2        3.4          3.5        3.9\n",
              "143    4.0     3.9      4.8       4.3        4.3          3.6        3.7\n",
              "144    3.5     3.1      3.0       2.3        3.4          2.9        3.2\n",
              "\n",
              "[145 rows x 7 columns]"
            ]
          },
          "execution_count": 70,
          "metadata": {},
          "output_type": "execute_result"
        }
      ],
      "source": [
        "ns"
      ]
    },
    {
      "cell_type": "code",
      "execution_count": 71,
      "metadata": {
        "colab": {
          "base_uri": "https://localhost:8080/",
          "height": 726
        },
        "id": "Hxk278IaEBPD",
        "outputId": "0c1e811c-14bc-4a02-e0c9-15389adc2215"
      },
      "outputs": [
        {
          "ename": "RuntimeError",
          "evalue": "clustermap requires scipy to be available",
          "output_type": "error",
          "traceback": [
            "\u001b[1;31m---------------------------------------------------------------------------\u001b[0m",
            "\u001b[1;31mRuntimeError\u001b[0m                              Traceback (most recent call last)",
            "Cell \u001b[1;32mIn[71], line 2\u001b[0m\n\u001b[0;32m      1\u001b[0m \u001b[38;5;66;03m# plt.figure(figsize=(1))\u001b[39;00m\n\u001b[1;32m----> 2\u001b[0m \u001b[43msns\u001b[49m\u001b[38;5;241;43m.\u001b[39;49m\u001b[43mclustermap\u001b[49m\u001b[43m(\u001b[49m\u001b[43mns\u001b[49m\u001b[43m,\u001b[49m\u001b[43mfigsize\u001b[49m\u001b[38;5;241;43m=\u001b[39;49m\u001b[43m(\u001b[49m\u001b[38;5;241;43m7\u001b[39;49m\u001b[43m,\u001b[49m\u001b[38;5;241;43m7\u001b[39;49m\u001b[43m)\u001b[49m\u001b[43m)\u001b[49m\n",
            "File \u001b[1;32mc:\\Users\\Ayush Gupta\\AppData\\Local\\Programs\\Python\\Python311\\Lib\\site-packages\\seaborn\\matrix.py:1250\u001b[0m, in \u001b[0;36mclustermap\u001b[1;34m(data, pivot_kws, method, metric, z_score, standard_scale, figsize, cbar_kws, row_cluster, col_cluster, row_linkage, col_linkage, row_colors, col_colors, mask, dendrogram_ratio, colors_ratio, cbar_pos, tree_kws, **kwargs)\u001b[0m\n\u001b[0;32m   1157\u001b[0m \u001b[38;5;250m\u001b[39m\u001b[38;5;124;03m\"\"\"\u001b[39;00m\n\u001b[0;32m   1158\u001b[0m \u001b[38;5;124;03mPlot a matrix dataset as a hierarchically-clustered heatmap.\u001b[39;00m\n\u001b[0;32m   1159\u001b[0m \n\u001b[1;32m   (...)\u001b[0m\n\u001b[0;32m   1247\u001b[0m \n\u001b[0;32m   1248\u001b[0m \u001b[38;5;124;03m\"\"\"\u001b[39;00m\n\u001b[0;32m   1249\u001b[0m \u001b[38;5;28;01mif\u001b[39;00m _no_scipy:\n\u001b[1;32m-> 1250\u001b[0m     \u001b[38;5;28;01mraise\u001b[39;00m \u001b[38;5;167;01mRuntimeError\u001b[39;00m(\u001b[38;5;124m\"\u001b[39m\u001b[38;5;124mclustermap requires scipy to be available\u001b[39m\u001b[38;5;124m\"\u001b[39m)\n\u001b[0;32m   1252\u001b[0m plotter \u001b[38;5;241m=\u001b[39m ClusterGrid(data, pivot_kws\u001b[38;5;241m=\u001b[39mpivot_kws, figsize\u001b[38;5;241m=\u001b[39mfigsize,\n\u001b[0;32m   1253\u001b[0m                       row_colors\u001b[38;5;241m=\u001b[39mrow_colors, col_colors\u001b[38;5;241m=\u001b[39mcol_colors,\n\u001b[0;32m   1254\u001b[0m                       z_score\u001b[38;5;241m=\u001b[39mz_score, standard_scale\u001b[38;5;241m=\u001b[39mstandard_scale,\n\u001b[0;32m   1255\u001b[0m                       mask\u001b[38;5;241m=\u001b[39mmask, dendrogram_ratio\u001b[38;5;241m=\u001b[39mdendrogram_ratio,\n\u001b[0;32m   1256\u001b[0m                       colors_ratio\u001b[38;5;241m=\u001b[39mcolors_ratio, cbar_pos\u001b[38;5;241m=\u001b[39mcbar_pos)\n\u001b[0;32m   1258\u001b[0m \u001b[38;5;28;01mreturn\u001b[39;00m plotter\u001b[38;5;241m.\u001b[39mplot(metric\u001b[38;5;241m=\u001b[39mmetric, method\u001b[38;5;241m=\u001b[39mmethod,\n\u001b[0;32m   1259\u001b[0m                     colorbar_kws\u001b[38;5;241m=\u001b[39mcbar_kws,\n\u001b[0;32m   1260\u001b[0m                     row_cluster\u001b[38;5;241m=\u001b[39mrow_cluster, col_cluster\u001b[38;5;241m=\u001b[39mcol_cluster,\n\u001b[0;32m   1261\u001b[0m                     row_linkage\u001b[38;5;241m=\u001b[39mrow_linkage, col_linkage\u001b[38;5;241m=\u001b[39mcol_linkage,\n\u001b[0;32m   1262\u001b[0m                     tree_kws\u001b[38;5;241m=\u001b[39mtree_kws, \u001b[38;5;241m*\u001b[39m\u001b[38;5;241m*\u001b[39mkwargs)\n",
            "\u001b[1;31mRuntimeError\u001b[0m: clustermap requires scipy to be available"
          ]
        }
      ],
      "source": [
        " \n",
        "# plt.figure(figsize=(1))\n",
        "sns.clustermap(ns,figsize=(7,7))"
      ]
    },
    {
      "cell_type": "code",
      "execution_count": null,
      "metadata": {
        "id": "KRJR6OCnEBPE",
        "outputId": "7c6c2015-47bd-46dc-9d0d-05206aa45e5f"
      },
      "outputs": [],
      "source": []
    },
    {
      "cell_type": "markdown",
      "metadata": {
        "id": "Asp-B8iKEBPE"
      },
      "source": [
        "**  : Clearly Fandango is rating movies much higher than other sites, especially considering that it is then displaying a rounded up version of the rating. Let's examine the top 10 worst movies. Based off the Rotten Tomatoes Critic Ratings, what are the top 10 lowest rated movies? What are the normalized scores across all platforms for these movies? You may need to add the FILM column back in to your DataFrame of normalized scores to see the results.**"
      ]
    },
    {
      "cell_type": "code",
      "execution_count": null,
      "metadata": {
        "colab": {
          "base_uri": "https://localhost:8080/",
          "height": 989
        },
        "id": "Hnh7Sv67EBPF",
        "outputId": "6485b676-d7b5-40c4-a425-4de3d9c43f59"
      },
      "outputs": [],
      "source": [
        " \n",
        "worst_movies=film_ns.sort_values(by =\"RT_Norm\").head(30)\n",
        "worst_movies"
      ]
    },
    {
      "cell_type": "code",
      "execution_count": null,
      "metadata": {
        "id": "6jWmQXiREBPF"
      },
      "outputs": [],
      "source": []
    },
    {
      "cell_type": "code",
      "execution_count": null,
      "metadata": {
        "id": "RD5QjsJ_EBPG",
        "outputId": "588a340f-ac5d-4374-e23d-559b43d4d892"
      },
      "outputs": [],
      "source": []
    },
    {
      "cell_type": "markdown",
      "metadata": {
        "id": "-kvErNDbEBPG"
      },
      "source": [
        "**FINAL   : Visualize the distribution of ratings across all sites for the top 10 worst movies.**"
      ]
    },
    {
      "cell_type": "code",
      "execution_count": null,
      "metadata": {
        "colab": {
          "base_uri": "https://localhost:8080/",
          "height": 694
        },
        "id": "uxzY_utTEBPH",
        "outputId": "b401e978-8b23-450b-8476-fb8062b95193"
      },
      "outputs": [],
      "source": [
        " \n",
        "plt.figure(figsize=(19,8))\n",
        "sns.kdeplot(worst_movies,fill=True)"
      ]
    },
    {
      "cell_type": "code",
      "execution_count": null,
      "metadata": {
        "id": "6woBdu74EBPH",
        "outputId": "df2c561c-a29d-4659-b5a2-51861de93bbc"
      },
      "outputs": [],
      "source": []
    },
    {
      "cell_type": "markdown",
      "metadata": {
        "id": "TzgC9tVsEBPH"
      },
      "source": [
        "---\n",
        "----\n",
        "\n",
        "<img src=\"https://upload.wikimedia.org/wikipedia/en/6/6f/Taken_3_poster.jpg\">\n",
        "\n",
        "**Final thoughts: Wow! Fandango is showing around 3-4 star ratings for films that are clearly bad! Notice the biggest offender, [Taken 3!](https://www.youtube.com/watch?v=tJrfImRCHJ0). Fandango is displaying 4.5 stars on their site for a film with an [average rating of 1.86](https://en.wikipedia.org/wiki/Taken_3#Critical_response) across the other platforms!**"
      ]
    },
    {
      "cell_type": "code",
      "execution_count": null,
      "metadata": {
        "id": "vvr4xf0rEBPI",
        "outputId": "3a0cedea-a2cf-464e-c3bf-3ebea894945b"
      },
      "outputs": [],
      "source": []
    },
    {
      "cell_type": "code",
      "execution_count": null,
      "metadata": {
        "id": "dOQQBbDpEBPI",
        "outputId": "663411c5-54f7-41f1-8d7f-7952c712f8b6"
      },
      "outputs": [],
      "source": [
        "0.4+2.3+1.3+2.3+3"
      ]
    },
    {
      "cell_type": "code",
      "execution_count": null,
      "metadata": {
        "id": "HEe0ZRjDEBPJ",
        "outputId": "f6dbca7b-9021-4981-cf3b-03907c5778c5"
      },
      "outputs": [],
      "source": [
        "9.3/5"
      ]
    },
    {
      "cell_type": "markdown",
      "metadata": {
        "id": "YQhupCuHEBPK"
      },
      "source": [
        "----"
      ]
    }
  ],
  "metadata": {
    "anaconda-cloud": {},
    "colab": {
      "provenance": []
    },
    "kernelspec": {
      "display_name": "Python 3",
      "language": "python",
      "name": "python3"
    },
    "language_info": {
      "codemirror_mode": {
        "name": "ipython",
        "version": 3
      },
      "file_extension": ".py",
      "mimetype": "text/x-python",
      "name": "python",
      "nbconvert_exporter": "python",
      "pygments_lexer": "ipython3",
      "version": "3.11.3"
    }
  },
  "nbformat": 4,
  "nbformat_minor": 0
}
